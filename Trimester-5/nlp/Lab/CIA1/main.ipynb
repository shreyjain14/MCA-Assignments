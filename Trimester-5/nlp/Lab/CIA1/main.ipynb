{
 "cells": [
  {
   "cell_type": "markdown",
   "id": "43e62193",
   "metadata": {},
   "source": [
    "### Importing libs"
   ]
  },
  {
   "cell_type": "code",
   "execution_count": 20,
   "id": "9bb4271f",
   "metadata": {},
   "outputs": [],
   "source": [
    "from nltk.tag import pos_tag\n",
    "from nltk import word_tokenize"
   ]
  },
  {
   "cell_type": "code",
   "execution_count": 21,
   "id": "75bb0e8c",
   "metadata": {},
   "outputs": [],
   "source": [
    "text = \"I loved the design of the laptop, but the performance was slow and disappointing.\""
   ]
  },
  {
   "cell_type": "markdown",
   "id": "a4bc3f6f",
   "metadata": {},
   "source": [
    "### A. Perform tokenization on the given review and print the list of tokens."
   ]
  },
  {
   "cell_type": "code",
   "execution_count": 22,
   "id": "d0c55f56",
   "metadata": {},
   "outputs": [
    {
     "data": {
      "text/plain": [
       "['I',\n",
       " 'loved',\n",
       " 'the',\n",
       " 'design',\n",
       " 'of',\n",
       " 'the',\n",
       " 'laptop',\n",
       " ',',\n",
       " 'but',\n",
       " 'the',\n",
       " 'performance',\n",
       " 'was',\n",
       " 'slow',\n",
       " 'and',\n",
       " 'disappointing',\n",
       " '.']"
      ]
     },
     "execution_count": 22,
     "metadata": {},
     "output_type": "execute_result"
    }
   ],
   "source": [
    "tokens = word_tokenize(text)\n",
    "tokens"
   ]
  },
  {
   "cell_type": "markdown",
   "id": "6a5d9ab3",
   "metadata": {},
   "source": [
    "### B. Apply part-of-speech (POS) tagging to the tokens. From the POS tags, extract all the adjectives and briefly explain what they reveal about the customer’s opinion."
   ]
  },
  {
   "cell_type": "code",
   "execution_count": 23,
   "id": "2ba8112a",
   "metadata": {},
   "outputs": [
    {
     "data": {
      "text/plain": [
       "[('I', 'PRP'),\n",
       " ('loved', 'VBD'),\n",
       " ('the', 'DT'),\n",
       " ('design', 'NN'),\n",
       " ('of', 'IN'),\n",
       " ('the', 'DT'),\n",
       " ('laptop', 'NN'),\n",
       " (',', ','),\n",
       " ('but', 'CC'),\n",
       " ('the', 'DT'),\n",
       " ('performance', 'NN'),\n",
       " ('was', 'VBD'),\n",
       " ('slow', 'JJ'),\n",
       " ('and', 'CC'),\n",
       " ('disappointing', 'JJ'),\n",
       " ('.', '.')]"
      ]
     },
     "execution_count": 23,
     "metadata": {},
     "output_type": "execute_result"
    }
   ],
   "source": [
    "tags = pos_tag(tokens)\n",
    "tags"
   ]
  },
  {
   "cell_type": "markdown",
   "id": "75b0044d",
   "metadata": {},
   "source": [
    "in this we can see that the person shows both positivity and negitivity as we can see the JJ and VBC tags"
   ]
  },
  {
   "cell_type": "markdown",
   "id": "8cddbbc0",
   "metadata": {},
   "source": [
    "### C. Customers often search for products without spaces. Create a product vocabulary dictionary with at least 20 words (e.g., laptop, design, performance, fast, offer, discount, battery, etc.). Using this dictionary, implement a dictionary-based segmentation algorithm to split the following queries into valid words:\n",
    "1. \"fastlaptopoffer\"\n",
    "2. \"discountonbatterylife\"\n",
    "3. \"buyelectronicsonline\""
   ]
  },
  {
   "cell_type": "code",
   "execution_count": 24,
   "id": "14941733",
   "metadata": {},
   "outputs": [],
   "source": [
    "words = [\"fastlaptopoffer\", \"discountonbatterylife\", \"buyelectronicsonline\"]"
   ]
  },
  {
   "cell_type": "code",
   "execution_count": 25,
   "id": "254b67f8",
   "metadata": {},
   "outputs": [],
   "source": [
    "product_dict = {\n",
    "    'laptop', 'design', 'performance', 'fast', 'offer', 'discount',\n",
    "    'battery', 'life', 'online', 'buy', 'electronics', 'new', 'best',\n",
    "    'sale', 'cheap', 'upgrade', 'bestbuy', 'deal', 'shop', 'review',\n",
    "    'rating', 'on', 'display', 'computer', 'macbook', 'dell'\n",
    "}"
   ]
  },
  {
   "cell_type": "code",
   "execution_count": 26,
   "id": "48f4b3c4",
   "metadata": {},
   "outputs": [],
   "source": [
    "def segment(text, vocab):\n",
    "    n = len(text)\n",
    "    dp = [None] * (n + 1)\n",
    "    dp[0] = []                     \n",
    "\n",
    "    for i in range(1, n + 1):\n",
    "        for j in range(max(0, i - 30), i): \n",
    "            word = text[j:i]\n",
    "            if word in vocab and dp[j] is not None:\n",
    "                dp[i] = dp[j] + [word]\n",
    "                break       \n",
    "\n",
    "    return dp[n]                    "
   ]
  },
  {
   "cell_type": "code",
   "execution_count": 27,
   "id": "3e46b2fc",
   "metadata": {},
   "outputs": [
    {
     "name": "stdout",
     "output_type": "stream",
     "text": [
      "fastlaptopoffer - ['fast', 'laptop', 'offer']\n",
      "discountonbatterylife - ['discount', 'on', 'battery', 'life']\n",
      "buyelectronicsonline - ['buy', 'electronics', 'online']\n"
     ]
    }
   ],
   "source": [
    "for i in words:\n",
    "    print(f\"{i} - {segment(i, product_dict)}\")"
   ]
  }
 ],
 "metadata": {
  "kernelspec": {
   "display_name": ".venv",
   "language": "python",
   "name": "python3"
  },
  "language_info": {
   "codemirror_mode": {
    "name": "ipython",
    "version": 3
   },
   "file_extension": ".py",
   "mimetype": "text/x-python",
   "name": "python",
   "nbconvert_exporter": "python",
   "pygments_lexer": "ipython3",
   "version": "3.13.7"
  }
 },
 "nbformat": 4,
 "nbformat_minor": 5
}
