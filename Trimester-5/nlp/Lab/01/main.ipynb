{
 "cells": [
  {
   "cell_type": "markdown",
   "id": "60ce246d",
   "metadata": {},
   "source": [
    "# Customer Review Analysis using NLP\n",
    "\n",
    "This notebook analyzes a customer review using Natural Language Processing techniques:\n",
    "1. **Tokenization** - Split text into meaningful tokens\n",
    "2. **Part-of-Speech (POS) Tagging** - Identify grammatical roles\n",
    "3. **Adjective Analysis** - Extract and analyze sentiment-bearing adjectives\n",
    "\n",
    "**Customer Review:**\n",
    "> \"I absolutely loved the camera quality of this phone, but the battery life is disappointing.\""
   ]
  },
  {
   "cell_type": "code",
   "execution_count": 15,
   "id": "1f2cb0e2",
   "metadata": {},
   "outputs": [],
   "source": [
    "# Import libraries\n",
    "import nltk\n",
    "from nltk.tokenize import word_tokenize\n",
    "from nltk.tag import pos_tag\n",
    "import pandas as pd"
   ]
  },
  {
   "cell_type": "code",
   "execution_count": 16,
   "id": "3b964aec",
   "metadata": {},
   "outputs": [
    {
     "name": "stdout",
     "output_type": "stream",
     "text": [
      "\"I absolutely loved the camera quality of this phone, but the battery life is disappointing.\"\n",
      "\n",
      "Length: 91 chars\n"
     ]
    }
   ],
   "source": [
    "# Define the customer review\n",
    "review = \"I absolutely loved the camera quality of this phone, but the battery life is disappointing.\"\n",
    "\n",
    "print(f'\"{review}\"')\n",
    "print(f\"\\nLength: {len(review)} chars\")"
   ]
  },
  {
   "cell_type": "markdown",
   "id": "8f8c55e4",
   "metadata": {},
   "source": [
    "## Step 1: Tokenization\n",
    "\n",
    "Tokenization is the process of breaking down text into individual words or meaningful units called tokens. This is a fundamental preprocessing step in NLP."
   ]
  },
  {
   "cell_type": "code",
   "execution_count": 17,
   "id": "626e26fc",
   "metadata": {},
   "outputs": [
    {
     "name": "stdout",
     "output_type": "stream",
     "text": [
      "Number of tokens: 17\n",
      "\n",
      "Tokens:\n",
      " 1. 'I'\n",
      " 2. 'absolutely'\n",
      " 3. 'loved'\n",
      " 4. 'the'\n",
      " 5. 'camera'\n",
      " 6. 'quality'\n",
      " 7. 'of'\n",
      " 8. 'this'\n",
      " 9. 'phone'\n",
      "10. ','\n",
      "11. 'but'\n",
      "12. 'the'\n",
      "13. 'battery'\n",
      "14. 'life'\n",
      "15. 'is'\n",
      "16. 'disappointing'\n",
      "17. '.'\n"
     ]
    }
   ],
   "source": [
    "# Tokenize the review\n",
    "tokens = word_tokenize(review)\n",
    "\n",
    "print(f\"Number of tokens: {len(tokens)}\")\n",
    "print(\"\\nTokens:\")\n",
    "for i, token in enumerate(tokens, 1):\n",
    "    print(f\"{i:2d}. '{token}'\")"
   ]
  },
  {
   "cell_type": "markdown",
   "id": "c34227bf",
   "metadata": {},
   "source": [
    "## Step 2: Part-of-Speech (POS) Tagging\n",
    "\n",
    "POS tagging assigns grammatical labels to each token, helping us understand the role of each word in the sentence. Common tags include:\n",
    "- **JJ**: Adjective\n",
    "- **NN/NNS**: Noun (singular/plural)  \n",
    "- **VB/VBD/VBN**: Verb (base/past/past participle)\n",
    "- **RB**: Adverb\n",
    "- **DT**: Determiner"
   ]
  },
  {
   "cell_type": "code",
   "execution_count": 18,
   "id": "016e2be6",
   "metadata": {},
   "outputs": [
    {
     "name": "stdout",
     "output_type": "stream",
     "text": [
      "Token           POS Tag    Description\n",
      "--------------------------------------------------\n",
      "I               PRP        Personal Pronoun\n",
      "absolutely      RB         Adverb\n",
      "loved           VBD        Verb, past tense\n",
      "the             DT         Determiner\n",
      "camera          NN         Noun, singular\n",
      "quality         NN         Noun, singular\n",
      "of              IN         Preposition\n",
      "this            DT         Determiner\n",
      "phone           NN         Noun, singular\n",
      ",               ,          Comma\n",
      "but             CC         Coordinating conjunction\n",
      "the             DT         Determiner\n",
      "battery         NN         Noun, singular\n",
      "life            NN         Noun, singular\n",
      "is              VBZ        Verb, 3rd person singular\n",
      "disappointing   JJ         Adjective\n",
      ".               .          Period\n",
      "\n",
      "Total tagged tokens: 17\n"
     ]
    }
   ],
   "source": [
    "# Apply POS tagging\n",
    "pos_tags = pos_tag(tokens)\n",
    "\n",
    "print(f\"{'Token':<15} {'POS Tag':<10} {'Description'}\")\n",
    "print(\"-\" * 50)\n",
    "\n",
    "# POS tag descriptions\n",
    "pos_descriptions = {\n",
    "    'PRP': 'Personal Pronoun',\n",
    "    'RB': 'Adverb', \n",
    "    'VBD': 'Verb, past tense',\n",
    "    'DT': 'Determiner',\n",
    "    'NN': 'Noun, singular',\n",
    "    'IN': 'Preposition',\n",
    "    'DT': 'Determiner',\n",
    "    'NN': 'Noun, singular',\n",
    "    ',': 'Comma',\n",
    "    'CC': 'Coordinating conjunction',\n",
    "    'VBZ': 'Verb, 3rd person singular',\n",
    "    'JJ': 'Adjective',\n",
    "    '.': 'Period'\n",
    "}\n",
    "\n",
    "for token, tag in pos_tags:\n",
    "    description = pos_descriptions.get(tag, f'Tag: {tag}')\n",
    "    print(f\"{token:<15} {tag:<10} {description}\")\n",
    "    \n",
    "print(f\"\\nTotal tagged tokens: {len(pos_tags)}\")"
   ]
  },
  {
   "cell_type": "markdown",
   "id": "cbc90f6e",
   "metadata": {},
   "source": [
    "## Step 3: Adjective Extraction and Sentiment Analysis\n",
    "\n",
    "Adjectives (JJ tags) are particularly important for sentiment analysis as they often carry emotional or evaluative meaning. Let's identify all adjectives and analyze what they reveal about the customer's opinion."
   ]
  },
  {
   "cell_type": "code",
   "execution_count": 19,
   "id": "4ed7dfff",
   "metadata": {},
   "outputs": [
    {
     "name": "stdout",
     "output_type": "stream",
     "text": [
      "\n",
      "Found 1 adjective and 1 adverb:\n",
      "\n",
      "ADJECTIVES:\n",
      "  • 'disappointing' (JJ)\n",
      "\n",
      "ADVERBS:\n",
      "  • 'absolutely' (RB)\n",
      "\n",
      "Total sentiment-bearing words: 2\n"
     ]
    }
   ],
   "source": [
    "# Extract adjectives and related words for sentiment analysis\n",
    "adjectives = []\n",
    "adverbs = []\n",
    "sentiment_words = []\n",
    "\n",
    "for token, pos in pos_tags:\n",
    "    if pos.startswith('JJ'):  # All adjective types (JJ, JJR, JJS)\n",
    "        adjectives.append((token, pos))\n",
    "        sentiment_words.append((token, pos, 'Adjective'))\n",
    "    elif pos.startswith('RB'):  # Adverbs that might modify adjectives\n",
    "        adverbs.append((token, pos))\n",
    "        sentiment_words.append((token, pos, 'Adverb'))\n",
    "\n",
    "print(f\"\\nFound {len(adjectives)} adjective{'(s)' if len(adjectives) > 1 else ''} and {len(adverbs)} adverb{'(s)' if len(adverbs) > 1 else ''}:\")\n",
    "print(\"\\nADJECTIVES:\")\n",
    "for word, pos in adjectives:\n",
    "    print(f\"  • '{word}' ({pos})\")\n",
    "\n",
    "print(\"\\nADVERBS:\")\n",
    "for word, pos in adverbs:\n",
    "    print(f\"  • '{word}' ({pos})\")\n",
    "\n",
    "print(f\"\\nTotal sentiment-bearing words: {len(sentiment_words)}\")"
   ]
  },
  {
   "cell_type": "code",
   "execution_count": null,
   "id": "e2bfe047",
   "metadata": {},
   "outputs": [
    {
     "name": "stdout",
     "output_type": "stream",
     "text": [
      "\n",
      "  WORD: 'ABSOLUTELY'\n",
      "   Type: Adverb (RB)\n",
      "   Sentiment: POSITIVE (Intensifier)\n",
      "   Context: Modifies 'loved' - strengthens positive emotion\n",
      "   Impact: High positive impact - shows strong enthusiasm\n",
      "\n",
      "  WORD: 'DISAPPOINTING'\n",
      "   Type: Adjective (JJ)\n",
      "   Sentiment: NEGATIVE\n",
      "   Context: Describes 'battery life' - expresses dissatisfaction\n",
      "   Impact: Moderate negative impact - indicates unmet expectations\n"
     ]
    }
   ],
   "source": [
    "# Analyze each sentiment-bearing word\n",
    "sentiment_analysis = {\n",
    "    'absolutely': {\n",
    "        'type': 'Adverb (RB)',\n",
    "        'sentiment': 'POSITIVE (Intensifier)',\n",
    "        'context': \"Modifies 'loved' - strengthens positive emotion\",\n",
    "        'impact': 'High positive impact - shows strong enthusiasm'\n",
    "    },\n",
    "    'disappointing': {\n",
    "        'type': 'Adjective (JJ)',\n",
    "        'sentiment': 'NEGATIVE',\n",
    "        'context': \"Describes 'battery life' - expresses dissatisfaction\",\n",
    "        'impact': 'Moderate negative impact - indicates unmet expectations'\n",
    "    }\n",
    "}\n",
    "\n",
    "for word in ['absolutely', 'disappointing']:\n",
    "    if word in [w[0] for w in sentiment_words]:\n",
    "        analysis = sentiment_analysis[word]\n",
    "        print(f\"\\n  WORD: '{word.upper()}'\")\n",
    "        print(f\"   Type: {analysis['type']}\")\n",
    "        print(f\"   Sentiment: {analysis['sentiment']}\")\n",
    "        print(f\"   Context: {analysis['context']}\")\n",
    "        print(f\"   Impact: {analysis['impact']}\")"
   ]
  },
  {
   "cell_type": "markdown",
   "id": "0a62c0f9",
   "metadata": {},
   "source": [
    "## Summary Table\n",
    "\n",
    "Let's create a comprehensive table showing all the analysis results:"
   ]
  },
  {
   "cell_type": "code",
   "execution_count": 24,
   "id": "e1882d12",
   "metadata": {},
   "outputs": [
    {
     "name": "stdout",
     "output_type": "stream",
     "text": [
      "Token           POS Tag  Sentiment                 Importance\n",
      "-----------------------------------------------------------------\n",
      "I               PRP      NEUTRAL                   Low       \n",
      "absolutely      RB       POSITIVE (Intensifier)    High      \n",
      "loved           VBD      POSITIVE                  High      \n",
      "the             DT       NEUTRAL                   Low       \n",
      "camera          NN       NEUTRAL                   Low       \n",
      "quality         NN       NEUTRAL                   Low       \n",
      "of              IN       NEUTRAL                   Low       \n",
      "this            DT       NEUTRAL                   Low       \n",
      "phone           NN       NEUTRAL                   Low       \n",
      ",               ,        NEUTRAL                   Low       \n",
      "but             CC       NEUTRAL                   Low       \n",
      "the             DT       NEUTRAL                   Low       \n",
      "battery         NN       NEUTRAL                   Low       \n",
      "life            NN       NEUTRAL                   Low       \n",
      "is              VBZ      NEUTRAL                   Low       \n",
      "disappointing   JJ       NEGATIVE                  High      \n",
      ".               .        NEUTRAL                   Low       \n"
     ]
    }
   ],
   "source": [
    "# Create DataFrame for better visualization\n",
    "data = []\n",
    "for token, pos in pos_tags:\n",
    "    sentiment = \"NEUTRAL\"\n",
    "    importance = \"Low\"\n",
    "    \n",
    "    if token == \"absolutely\":\n",
    "        sentiment = \"POSITIVE (Intensifier)\"\n",
    "        importance = \"High\"\n",
    "    elif token == \"disappointing\":\n",
    "        sentiment = \"NEGATIVE\" \n",
    "        importance = \"High\"\n",
    "    elif token == \"loved\":\n",
    "        sentiment = \"POSITIVE\"\n",
    "        importance = \"High\"\n",
    "    \n",
    "    data.append({\n",
    "        'Token': token,\n",
    "        'POS_Tag': pos,\n",
    "        'Sentiment': sentiment,\n",
    "        'Importance': importance\n",
    "    })\n",
    "\n",
    "# Display as formatted table\n",
    "print(f\"{'Token':<15} {'POS Tag':<8} {'Sentiment':<25} {'Importance':<10}\")\n",
    "print(\"-\" * 65)\n",
    "\n",
    "for item in data:\n",
    "    print(f\"{item['Token']:<15} {item['POS_Tag']:<8} {item['Sentiment']:<25} {item['Importance']:<10}\")"
   ]
  },
  {
   "cell_type": "markdown",
   "id": "5b030e47",
   "metadata": {},
   "source": [
    "KEY FINDINGS:\n",
    "- Total tokens: 17\n",
    "- Adjectives found: 1 (disappointing)\n",
    "- Sentiment modifiers: 1 (absolutely)\n",
    "- Overall sentiment: MIXED (positive about camera, negative about battery)\n",
    "- Customer satisfaction: Partial - loves main feature but disappointed with battery"
   ]
  }
 ],
 "metadata": {
  "kernelspec": {
   "display_name": ".venv",
   "language": "python",
   "name": "python3"
  },
  "language_info": {
   "codemirror_mode": {
    "name": "ipython",
    "version": 3
   },
   "file_extension": ".py",
   "mimetype": "text/x-python",
   "name": "python",
   "nbconvert_exporter": "python",
   "pygments_lexer": "ipython3",
   "version": "3.13.7"
  }
 },
 "nbformat": 4,
 "nbformat_minor": 5
}
