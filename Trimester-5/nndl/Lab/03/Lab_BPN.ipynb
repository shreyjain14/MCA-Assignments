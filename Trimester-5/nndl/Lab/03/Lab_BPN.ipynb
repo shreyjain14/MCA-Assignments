{
 "cells": [
  {
   "cell_type": "markdown",
   "id": "75e43152-f897-4994-b678-a2fa54985ff7",
   "metadata": {},
   "source": [
    "Aim of this program:\n",
    "Implement a neural network to solve XOR Problem\n",
    "Implement Backpropogation Algorithm to train a neural network\n",
    "Illustrate the optimization of Weight and Bias using gradient descent"
   ]
  },
  {
   "cell_type": "markdown",
   "id": "059dcc6d-f5bf-4e00-b7ef-93c4304108bc",
   "metadata": {},
   "source": [
    "Import Required Libraries"
   ]
  },
  {
   "cell_type": "code",
   "execution_count": 1,
   "id": "2fe01def-6f5a-4861-acb0-f64e52588f14",
   "metadata": {},
   "outputs": [],
   "source": [
    "# Importing the required library\n",
    "import numpy as np\n",
    "import matplotlib.pyplot as plt\n",
    "# Reproducible results\n",
    "np.random.seed(42)\n"
   ]
  },
  {
   "cell_type": "markdown",
   "id": "388806f5-ee18-4d51-903a-539327f76332",
   "metadata": {},
   "source": [
    "Initialize Inputs: Define the input and expected output for a XOR network"
   ]
  },
  {
   "cell_type": "code",
   "execution_count": 2,
   "id": "0900f22a-2f74-48b0-a8ce-21d5d5ca9f6a",
   "metadata": {},
   "outputs": [],
   "source": [
    "X=np.array([[0,0],[0,1],[1,0],[1,1]]).T\n",
    "d = np.array([[0, 1, 1, 0]])  "
   ]
  },
  {
   "cell_type": "markdown",
   "id": "44a73940-c203-4fc0-a461-55398b5e0b48",
   "metadata": {},
   "source": [
    "Declare the network parameters:\n",
    "1. Number of input neurons\n",
    "2. Hidden layer neurons\n",
    "3. Output neurons\n",
    "4. Learning Rate\n",
    "5. Numebr of epochs"
   ]
  },
  {
   "cell_type": "code",
   "execution_count": 3,
   "id": "0d7deb8e-f9c9-49bd-adb9-d7fe9b151bab",
   "metadata": {},
   "outputs": [],
   "source": [
    "def initialize_network_parameters():\n",
    "    # Network Parameters\n",
    "    inputSize = 2  \n",
    "    hiddenSize = 2 \n",
    "    outputSize = 1 \n",
    "    lr = 0.1\n",
    "    epochs = 150000\n",
    "\n",
    "    # Initialize weights and biases randomly within the range [-1, 1]\n",
    "    w1 = np.random.rand(hiddenSize, inputSize) * 2 - 1  # Weights from input to hidden layer\n",
    "    b1 = np.random.rand(hiddenSize, 1) * 2 - 1          # Bias for hidden layer\n",
    "    w2 = np.random.rand(outputSize, hiddenSize) * 2 - 1  \n",
    "    b2 = np.random.rand(outputSize, 1) * 2 - 1          # Bias for output layer\n",
    "\n",
    "    return w1, b1, w2, b2, lr, epochs\n"
   ]
  },
  {
   "cell_type": "code",
   "execution_count": 4,
   "id": "8b8f3295-4085-40f8-93aa-b128868a2ef1",
   "metadata": {},
   "outputs": [
    {
     "name": "stdout",
     "output_type": "stream",
     "text": [
      "Epoch: 10000, Average error: 0.08356\n",
      "Epoch: 20000, Average error: 0.03515\n",
      "Epoch: 30000, Average error: 0.02548\n",
      "Epoch: 40000, Average error: 0.02087\n",
      "Epoch: 30000, Average error: 0.02548\n",
      "Epoch: 40000, Average error: 0.02087\n",
      "Epoch: 50000, Average error: 0.01807\n",
      "Epoch: 60000, Average error: 0.01613\n",
      "Epoch: 50000, Average error: 0.01807\n",
      "Epoch: 60000, Average error: 0.01613\n",
      "Epoch: 70000, Average error: 0.01470\n",
      "Epoch: 80000, Average error: 0.01359\n",
      "Epoch: 70000, Average error: 0.01470\n",
      "Epoch: 80000, Average error: 0.01359\n",
      "Epoch: 90000, Average error: 0.01269\n",
      "Epoch: 100000, Average error: 0.01195\n",
      "Epoch: 90000, Average error: 0.01269\n",
      "Epoch: 100000, Average error: 0.01195\n",
      "Epoch: 110000, Average error: 0.01132\n",
      "Epoch: 120000, Average error: 0.01077\n",
      "Epoch: 110000, Average error: 0.01132\n",
      "Epoch: 120000, Average error: 0.01077\n",
      "Epoch: 130000, Average error: 0.01030\n",
      "Epoch: 140000, Average error: 0.00989\n",
      "Epoch: 130000, Average error: 0.01030\n",
      "Epoch: 140000, Average error: 0.00989\n",
      "Epoch: 150000, Average error: 0.00952\n",
      "Epoch: 150000, Average error: 0.00952\n"
     ]
    },
    {
     "data": {
      "image/png": "[encoded data removed]",
      "text/plain": [
       "<Figure size 640x480 with 1 Axes>"
      ]
     },
     "metadata": {},
     "output_type": "display_data"
    }
   ],
   "source": [
    "# Get initialized parameters\n",
    "w1, b1, w2, b2, lr, epochs = initialize_network_parameters()\n",
    "\n",
    "# Training the network using backpropagation\n",
    "error_list = []\n",
    "for epoch in range(epochs):\n",
    "    # Forward pass\n",
    "    z1 = np.dot(w1, X) + b1                        # Weighted sum for hidden layer\n",
    "    a1 = 1 / (1 + np.exp(-z1))                    # Sigmoid activation for hidden layer\n",
    "\n",
    "    z2 = np.dot(w2, a1) + b2                      # Weighted sum for output layer\n",
    "    a2 = 1 / (1 + np.exp(-z2))                    # Sigmoid activation for output layer\n",
    "\n",
    "    # Error calculation and backpropagation\n",
    "    error = d - a2                                # Difference between expected and actual output\n",
    "    da2 = error * (a2 * (1 - a2))                 # Derivative for output layer\n",
    "    dz2 = da2                                     # Gradient for output layer\n",
    "\n",
    "    # Propagate error to hidden layer\n",
    "    da1 = np.dot(w2.T, dz2)                       # Gradient for hidden layer\n",
    "    dz1 = da1 * (a1 * (1 - a1))                   # Derivative for hidden layer\n",
    "\n",
    "    # Update weights and biases\n",
    "    w2 += lr * np.dot(dz2, a1.T)                  # Update weights from hidden to output layer\n",
    "    b2 += lr * np.sum(dz2, axis=1, keepdims=True) # Update bias for output layer\n",
    "\n",
    "    w1 += lr * np.dot(dz1, X.T)                   # Update weights from input to hidden layer\n",
    "    b1 += lr * np.sum(dz1, axis=1, keepdims=True) # Update bias for hidden layer\n",
    "\n",
    "    if (epoch+1) % 10000 == 0:\n",
    "        print(\"Epoch: %d, Average error: %0.05f\" % (epoch+1, np.average(abs(error))))\n",
    "        error_list.append(np.average(abs(error)))\n",
    "\n",
    "# (Optional) plot the error curve\n",
    "plt.plot(np.arange(len(error_list)) * 10000 + 10000, error_list)\n",
    "plt.xlabel('Epoch')\n",
    "plt.ylabel('Average absolute error')\n",
    "plt.title('Training progress')\n",
    "plt.show()\n"
   ]
  },
  {
   "cell_type": "code",
   "execution_count": 5,
   "id": "4046af89-03ba-46e5-877b-9c274a5861b7",
   "metadata": {},
   "outputs": [
    {
     "name": "stdout",
     "output_type": "stream",
     "text": [
      "Final output after training: [[0.01064116 0.99092211 0.99092208 0.00927483]]\n",
      "Ground truth [[0 1 1 0]]\n",
      "Error after training: [[-0.01064119  0.00907792  0.00907795 -0.00927486]]\n",
      "Average error: 0.00952\n"
     ]
    }
   ],
   "source": [
    "# Testing the trained network\n",
    "z1 = np.dot(w1, X) + b1  # Weighted sum for hidden layer\n",
    "a1 = 1 / (1 + np.exp(-z1))  # Sigmoid activation for hidden layer\n",
    "\n",
    "z2 = np.dot(w2, a1) + b2  # Weighted sum for output layer\n",
    "a2 = 1 / (1 + np.exp(-z2))  # Sigmoid activation for output layer\n",
    "\n",
    "# Print results\n",
    "print('Final output after training:', a2)\n",
    "print('Ground truth', d)\n",
    "print('Error after training:', error)\n",
    "print('Average error: %0.05f'%np.average(abs(error)))\n"
   ]
  }
 ],
 "metadata": {
  "kernelspec": {
   "display_name": ".venv",
   "language": "python",
   "name": "python3"
  },
  "language_info": {
   "codemirror_mode": {
    "name": "ipython",
    "version": 3
   },
   "file_extension": ".py",
   "mimetype": "text/x-python",
   "name": "python",
   "nbconvert_exporter": "python",
   "pygments_lexer": "ipython3",
   "version": "3.13.7"
  }
 },
 "nbformat": 4,
 "nbformat_minor": 5
}
