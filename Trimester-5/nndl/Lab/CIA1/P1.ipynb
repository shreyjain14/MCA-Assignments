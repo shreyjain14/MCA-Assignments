{
 "cells": [
  {
   "cell_type": "markdown",
   "id": "5734d751",
   "metadata": {},
   "source": [
    "### loading libs"
   ]
  },
  {
   "cell_type": "code",
   "execution_count": 68,
   "id": "490680d2",
   "metadata": {},
   "outputs": [],
   "source": [
    "import tensorflow as tf\n",
    "import numpy as np\n",
    "import pandas as pd\n",
    "import matplotlib.pyplot as plt\n",
    "from sklearn.model_selection import train_test_split\n",
    "from sklearn.preprocessing import StandardScaler"
   ]
  },
  {
   "cell_type": "markdown",
   "id": "912842c7",
   "metadata": {},
   "source": [
    "### loading dataset"
   ]
  },
  {
   "cell_type": "code",
   "execution_count": 69,
   "id": "47c2062e",
   "metadata": {},
   "outputs": [
    {
     "data": {
      "text/html": [
       "<div>\n",
       "<style scoped>\n",
       "    .dataframe tbody tr th:only-of-type {\n",
       "        vertical-align: middle;\n",
       "    }\n",
       "\n",
       "    .dataframe tbody tr th {\n",
       "        vertical-align: top;\n",
       "    }\n",
       "\n",
       "    .dataframe thead th {\n",
       "        text-align: right;\n",
       "    }\n",
       "</style>\n",
       "<table border=\"1\" class=\"dataframe\">\n",
       "  <thead>\n",
       "    <tr style=\"text-align: right;\">\n",
       "      <th></th>\n",
       "      <th>income</th>\n",
       "      <th>loan_amount</th>\n",
       "      <th>credit_score</th>\n",
       "      <th>age</th>\n",
       "      <th>employment_years</th>\n",
       "      <th>approved</th>\n",
       "    </tr>\n",
       "  </thead>\n",
       "  <tbody>\n",
       "    <tr>\n",
       "      <th>0</th>\n",
       "      <td>57450.71</td>\n",
       "      <td>206927.18</td>\n",
       "      <td>5.09</td>\n",
       "      <td>57</td>\n",
       "      <td>22</td>\n",
       "      <td>0</td>\n",
       "    </tr>\n",
       "    <tr>\n",
       "      <th>1</th>\n",
       "      <td>47926.04</td>\n",
       "      <td>187545.82</td>\n",
       "      <td>5.64</td>\n",
       "      <td>40</td>\n",
       "      <td>39</td>\n",
       "      <td>0</td>\n",
       "    </tr>\n",
       "    <tr>\n",
       "      <th>2</th>\n",
       "      <td>59715.33</td>\n",
       "      <td>293422.56</td>\n",
       "      <td>5.40</td>\n",
       "      <td>41</td>\n",
       "      <td>10</td>\n",
       "      <td>0</td>\n",
       "    </tr>\n",
       "    <tr>\n",
       "      <th>3</th>\n",
       "      <td>72845.45</td>\n",
       "      <td>220353.67</td>\n",
       "      <td>7.00</td>\n",
       "      <td>30</td>\n",
       "      <td>31</td>\n",
       "      <td>0</td>\n",
       "    </tr>\n",
       "    <tr>\n",
       "      <th>4</th>\n",
       "      <td>46487.70</td>\n",
       "      <td>227008.21</td>\n",
       "      <td>2.26</td>\n",
       "      <td>25</td>\n",
       "      <td>35</td>\n",
       "      <td>0</td>\n",
       "    </tr>\n",
       "  </tbody>\n",
       "</table>\n",
       "</div>"
      ],
      "text/plain": [
       "     income  loan_amount  credit_score  age  employment_years  approved\n",
       "0  57450.71    206927.18          5.09   57                22         0\n",
       "1  47926.04    187545.82          5.64   40                39         0\n",
       "2  59715.33    293422.56          5.40   41                10         0\n",
       "3  72845.45    220353.67          7.00   30                31         0\n",
       "4  46487.70    227008.21          2.26   25                35         0"
      ]
     },
     "execution_count": 69,
     "metadata": {},
     "output_type": "execute_result"
    }
   ],
   "source": [
    "df = pd.read_csv(\"P1.csv\")\n",
    "df.head()"
   ]
  },
  {
   "cell_type": "markdown",
   "id": "0a96d998",
   "metadata": {},
   "source": [
    "### Implement a single-layer perceptron to classify loan approvals using the followingattributes in the dataset Credit_score, age, employment_years"
   ]
  },
  {
   "cell_type": "code",
   "execution_count": 70,
   "id": "0f95dba7",
   "metadata": {},
   "outputs": [],
   "source": [
    "# X = features, y = target\n",
    "X = df[[\"credit_score\", \"age\", \"employment_years\"]].values\n",
    "y = df[[\"approved\"]].values.ravel()\n",
    "\n",
    "# splitting the dataset into training and testing sets\n",
    "X_train, X_test, y_train, y_test = train_test_split(X, y, test_size=0.2, random_state=42, stratify=y)\n",
    "\n",
    "# scaling the dataset\n",
    "scaler = StandardScaler()\n",
    "X_train_scaled = scaler.fit_transform(X_train)\n",
    "X_test_scaled = scaler.transform(X_test)\n",
    "n_features = X_train_scaled.shape[1]"
   ]
  },
  {
   "cell_type": "code",
   "execution_count": 71,
   "id": "8c31dc73",
   "metadata": {},
   "outputs": [
    {
     "data": {
      "text/plain": [
       "np.float64(0.9545)"
      ]
     },
     "execution_count": 71,
     "metadata": {},
     "output_type": "execute_result"
    }
   ],
   "source": [
    "# making a single layer preceptrion\n",
    "lr = 0.01\n",
    "epochs = 1000\n",
    "w = np.zeros(n_features)\n",
    "b = 0.0\n",
    "for epoch in range(epochs):\n",
    "    for xi, yi in zip(X_train_scaled, y_train):\n",
    "        linear = np.dot(w, xi) + b\n",
    "        y_pred = 1 if linear >= 0 else 0\n",
    "        update = lr * (yi - y_pred)\n",
    "        w += update * xi\n",
    "        b += update\n",
    "linear_test = X_test_scaled.dot(w) + b\n",
    "y_pred_test = (linear_test >= 0).astype(int)\n",
    "perceptron_accuracy = np.mean(y_pred_test == y_test)\n",
    "round(perceptron_accuracy, 4)"
   ]
  },
  {
   "cell_type": "markdown",
   "id": "d8ac6b4a",
   "metadata": {},
   "source": [
    "### Build a feedforward neural network with one hidden layer using Keras library."
   ]
  },
  {
   "cell_type": "code",
   "execution_count": 72,
   "id": "6856dc17",
   "metadata": {},
   "outputs": [],
   "source": [
    "# making a neural network with 1 hidden layer\n",
    "model = tf.keras.Sequential([\n",
    "    tf.keras.layers.Input(shape=(n_features,)),\n",
    "    tf.keras.layers.Dense(8, activation=\"sigmoid\"),\n",
    "    tf.keras.layers.Dense(1, activation=\"sigmoid\")\n",
    "])"
   ]
  },
  {
   "cell_type": "code",
   "execution_count": 73,
   "id": "116a2353",
   "metadata": {},
   "outputs": [
    {
     "name": "stdout",
     "output_type": "stream",
     "text": [
      "\u001b[1m4/4\u001b[0m \u001b[32m━━━━━━━━━━━━━━━━━━━━\u001b[0m\u001b[37m\u001b[0m \u001b[1m0s\u001b[0m 2ms/step - accuracy: 0.9545 - loss: 0.0914 \n"
     ]
    },
    {
     "data": {
      "text/plain": [
       "0.9545"
      ]
     },
     "execution_count": 73,
     "metadata": {},
     "output_type": "execute_result"
    }
   ],
   "source": [
    "# compiling the model\n",
    "model.compile(optimizer=\"adam\", loss=\"binary_crossentropy\", metrics=[\"accuracy\"])\n",
    "history = model.fit(X_train_scaled, y_train, epochs=1000, verbose=0)\n",
    "loss, nn_accuracy = model.evaluate(X_test_scaled, y_test)\n",
    "round(nn_accuracy, 4)"
   ]
  },
  {
   "cell_type": "markdown",
   "id": "5907aaaf",
   "metadata": {},
   "source": [
    "### Compare the accuracy of the perceptron model and the neural network model."
   ]
  },
  {
   "cell_type": "code",
   "execution_count": 74,
   "id": "1dea8129",
   "metadata": {},
   "outputs": [
    {
     "name": "stdout",
     "output_type": "stream",
     "text": [
      "0.9545454545454546\n",
      "0.9545454382896423\n",
      "1.6255812251841917e-08\n"
     ]
    }
   ],
   "source": [
    "print(perceptron_accuracy)\n",
    "print(nn_accuracy)\n",
    "print(abs(perceptron_accuracy-nn_accuracy))"
   ]
  },
  {
   "cell_type": "markdown",
   "id": "aeac6ca3",
   "metadata": {},
   "source": [
    "### Plot the accuracy curve for the neural network."
   ]
  },
  {
   "cell_type": "code",
   "execution_count": 75,
   "id": "cc624638",
   "metadata": {},
   "outputs": [
    {
     "data": {
      "image/png": "[encoded data removed]",
      "text/plain": [
       "<Figure size 800x400 with 1 Axes>"
      ]
     },
     "metadata": {},
     "output_type": "display_data"
    }
   ],
   "source": [
    "# getting accuracy over the period of the training\n",
    "acc = history.history.get(\"accuracy\")\n",
    "\n",
    "# plotting the graph\n",
    "plt.figure(figsize=(8, 4))\n",
    "plt.plot(acc)\n",
    "plt.grid(True)\n",
    "plt.show()"
   ]
  },
  {
   "cell_type": "markdown",
   "id": "1eefcf3d",
   "metadata": {},
   "source": [
    "as we can see that the neural network reaches the 0.95 very soon and then plateaus in the accuracy.\n",
    "and we can see that there is barely any differnce in a single preceptron and a 1 layer neural network in terms of their accuracy."
   ]
  }
 ],
 "metadata": {
  "kernelspec": {
   "display_name": ".venv",
   "language": "python",
   "name": "python3"
  },
  "language_info": {
   "codemirror_mode": {
    "name": "ipython",
    "version": 3
   },
   "file_extension": ".py",
   "mimetype": "text/x-python",
   "name": "python",
   "nbconvert_exporter": "python",
   "pygments_lexer": "ipython3",
   "version": "3.13.7"
  }
 },
 "nbformat": 4,
 "nbformat_minor": 5
}
