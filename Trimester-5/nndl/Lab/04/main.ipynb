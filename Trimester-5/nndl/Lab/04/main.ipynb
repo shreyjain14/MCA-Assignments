{
 "cells": [
  {
   "cell_type": "code",
   "execution_count": 9,
   "id": "e7aa8e76",
   "metadata": {},
   "outputs": [],
   "source": [
    "# Imports\n",
    "import os\n",
    "from io import StringIO\n",
    "import numpy as np\n",
    "import pandas as pd\n",
    "from sklearn.model_selection import train_test_split\n",
    "from sklearn.preprocessing import StandardScaler\n",
    "from sklearn.neural_network import MLPClassifier\n",
    "from sklearn.metrics import classification_report, confusion_matrix, accuracy_score\n",
    "import matplotlib.pyplot as plt\n",
    "import seaborn as sns\n",
    "sns.set()"
   ]
  },
  {
   "cell_type": "code",
   "execution_count": 10,
   "id": "77492786",
   "metadata": {},
   "outputs": [
    {
     "name": "stdout",
     "output_type": "stream",
     "text": [
      "Data shape: (1353, 10)\n",
      "Class distribution:\n",
      "Result\n",
      "-1    702\n",
      " 1    548\n",
      " 0    103\n",
      "Name: count, dtype: int64\n"
     ]
    },
    {
     "data": {
      "text/html": [
       "<div>\n",
       "<style scoped>\n",
       "    .dataframe tbody tr th:only-of-type {\n",
       "        vertical-align: middle;\n",
       "    }\n",
       "\n",
       "    .dataframe tbody tr th {\n",
       "        vertical-align: top;\n",
       "    }\n",
       "\n",
       "    .dataframe thead th {\n",
       "        text-align: right;\n",
       "    }\n",
       "</style>\n",
       "<table border=\"1\" class=\"dataframe\">\n",
       "  <thead>\n",
       "    <tr style=\"text-align: right;\">\n",
       "      <th></th>\n",
       "      <th>SFH</th>\n",
       "      <th>popUpWidnow</th>\n",
       "      <th>SSLfinal_State</th>\n",
       "      <th>Request_URL</th>\n",
       "      <th>URL_of_Anchor</th>\n",
       "      <th>web_traffic</th>\n",
       "      <th>URL_Length</th>\n",
       "      <th>age_of_domain</th>\n",
       "      <th>having_IP_Address</th>\n",
       "      <th>Result</th>\n",
       "    </tr>\n",
       "  </thead>\n",
       "  <tbody>\n",
       "    <tr>\n",
       "      <th>0</th>\n",
       "      <td>1</td>\n",
       "      <td>-1</td>\n",
       "      <td>1</td>\n",
       "      <td>-1</td>\n",
       "      <td>-1</td>\n",
       "      <td>1</td>\n",
       "      <td>1</td>\n",
       "      <td>1</td>\n",
       "      <td>0</td>\n",
       "      <td>0</td>\n",
       "    </tr>\n",
       "    <tr>\n",
       "      <th>1</th>\n",
       "      <td>-1</td>\n",
       "      <td>-1</td>\n",
       "      <td>-1</td>\n",
       "      <td>-1</td>\n",
       "      <td>-1</td>\n",
       "      <td>0</td>\n",
       "      <td>1</td>\n",
       "      <td>1</td>\n",
       "      <td>1</td>\n",
       "      <td>1</td>\n",
       "    </tr>\n",
       "    <tr>\n",
       "      <th>2</th>\n",
       "      <td>1</td>\n",
       "      <td>-1</td>\n",
       "      <td>0</td>\n",
       "      <td>0</td>\n",
       "      <td>-1</td>\n",
       "      <td>0</td>\n",
       "      <td>-1</td>\n",
       "      <td>1</td>\n",
       "      <td>0</td>\n",
       "      <td>1</td>\n",
       "    </tr>\n",
       "    <tr>\n",
       "      <th>3</th>\n",
       "      <td>1</td>\n",
       "      <td>0</td>\n",
       "      <td>1</td>\n",
       "      <td>-1</td>\n",
       "      <td>-1</td>\n",
       "      <td>0</td>\n",
       "      <td>1</td>\n",
       "      <td>1</td>\n",
       "      <td>0</td>\n",
       "      <td>0</td>\n",
       "    </tr>\n",
       "    <tr>\n",
       "      <th>4</th>\n",
       "      <td>-1</td>\n",
       "      <td>-1</td>\n",
       "      <td>1</td>\n",
       "      <td>-1</td>\n",
       "      <td>0</td>\n",
       "      <td>0</td>\n",
       "      <td>-1</td>\n",
       "      <td>1</td>\n",
       "      <td>0</td>\n",
       "      <td>1</td>\n",
       "    </tr>\n",
       "  </tbody>\n",
       "</table>\n",
       "</div>"
      ],
      "text/plain": [
       "   SFH  popUpWidnow  SSLfinal_State  Request_URL  URL_of_Anchor  web_traffic  \\\n",
       "0    1           -1               1           -1             -1            1   \n",
       "1   -1           -1              -1           -1             -1            0   \n",
       "2    1           -1               0            0             -1            0   \n",
       "3    1            0               1           -1             -1            0   \n",
       "4   -1           -1               1           -1              0            0   \n",
       "\n",
       "   URL_Length  age_of_domain  having_IP_Address  Result  \n",
       "0           1              1                  0       0  \n",
       "1           1              1                  1       1  \n",
       "2          -1              1                  0       1  \n",
       "3           1              1                  0       0  \n",
       "4          -1              1                  0       1  "
      ]
     },
     "execution_count": 10,
     "metadata": {},
     "output_type": "execute_result"
    }
   ],
   "source": [
    "# Load ARFF-like file without relying on scipy to keep dependencies minimal.\n",
    "data_path = os.path.join('PhishingData.arff')\n",
    "with open(data_path,'r') as f:\n",
    "    lines = f.readlines()\n",
    "# Find the @data marker (case-insensitive)\n",
    "start = 0\n",
    "for idx,ln in enumerate(lines):\n",
    "    if ln.strip().lower().startswith('@data'):\n",
    "        start = idx+1\n",
    "        break\n",
    "data_lines = [ln for ln in lines[start:] if ln.strip()!='']\n",
    "data_txt = ''.join(data_lines)\n",
    "df = pd.read_csv(StringIO(data_txt), header=None)\n",
    "# Column names from the ARFF header (checked in file)\n",
    "df.columns = ['SFH','popUpWidnow','SSLfinal_State','Request_URL','URL_of_Anchor','web_traffic','URL_Length','age_of_domain','having_IP_Address','Result']\n",
    "print('Data shape:', df.shape)\n",
    "print('Class distribution:')\n",
    "print(df['Result'].value_counts())\n",
    "df.head()"
   ]
  },
  {
   "cell_type": "code",
   "execution_count": 11,
   "id": "ae20ea2a",
   "metadata": {},
   "outputs": [
    {
     "name": "stdout",
     "output_type": "stream",
     "text": [
      "Positive class count: 548 out of 1353\n",
      "Train/test sizes: (1082, 9) (271, 9)\n"
     ]
    }
   ],
   "source": [
    "# Preprocessing: convert to numeric, map labels, handle missing (if any)\n",
    "# Assumption: Result==1 => positive (phishing), else negative (0).\n",
    "X = df.drop('Result', axis=1).astype(float)\n",
    "y = df['Result'].map(lambda v: 1 if v==1 else 0).astype(int)\n",
    "print('Positive class count:', y.sum(), 'out of', len(y))\n",
    "# Train/test split (stratify to keep class balance)\n",
    "X_train, X_test, y_train, y_test = train_test_split(X, y, test_size=0.2, random_state=42, stratify=y)\n",
    "# Scale features\n",
    "scaler = StandardScaler()\n",
    "X_train_scaled = scaler.fit_transform(X_train)\n",
    "X_test_scaled = scaler.transform(X_test)\n",
    "print('Train/test sizes:', X_train.shape, X_test.shape)"
   ]
  },
  {
   "cell_type": "code",
   "execution_count": 12,
   "id": "16425df0",
   "metadata": {},
   "outputs": [
    {
     "name": "stdout",
     "output_type": "stream",
     "text": [
      "MLP1 trained\n",
      "Accuracy: 0.8966789667896679\n",
      "Classification report (MLP1):\n",
      "              precision    recall  f1-score   support\n",
      "\n",
      "           0       0.95      0.88      0.91       161\n",
      "           1       0.84      0.93      0.88       110\n",
      "\n",
      "    accuracy                           0.90       271\n",
      "   macro avg       0.89      0.90      0.89       271\n",
      "weighted avg       0.90      0.90      0.90       271\n",
      "\n"
     ]
    },
    {
     "name": "stderr",
     "output_type": "stream",
     "text": [
      "/Users/shreyjain/Documents/CODING/MCA-Assignments/Trimester-5/nndl/.venv/lib/python3.13/site-packages/sklearn/neural_network/_multilayer_perceptron.py:781: ConvergenceWarning: Stochastic Optimizer: Maximum iterations (500) reached and the optimization hasn't converged yet.\n",
      "  warnings.warn(\n"
     ]
    }
   ],
   "source": [
    "# Model configuration 1: small network (baseline)\n",
    "mlp1 = MLPClassifier(hidden_layer_sizes=(10,), activation='relu', solver='adam', alpha=0.0001, learning_rate_init=0.001, max_iter=500, random_state=42)\n",
    "mlp1.fit(X_train_scaled, y_train)\n",
    "y1_pred = mlp1.predict(X_test_scaled)\n",
    "print('MLP1 trained')\n",
    "print('Accuracy:', accuracy_score(y_test, y1_pred))\n",
    "print('Classification report (MLP1):')\n",
    "print(classification_report(y_test, y1_pred))"
   ]
  },
  {
   "cell_type": "code",
   "execution_count": 13,
   "id": "b1b76f74",
   "metadata": {},
   "outputs": [
    {
     "name": "stdout",
     "output_type": "stream",
     "text": [
      "MLP2 trained\n",
      "Accuracy: 0.8856088560885609\n",
      "Classification report (MLP2):\n",
      "              precision    recall  f1-score   support\n",
      "\n",
      "           0       0.93      0.88      0.90       161\n",
      "           1       0.83      0.90      0.86       110\n",
      "\n",
      "    accuracy                           0.89       271\n",
      "   macro avg       0.88      0.89      0.88       271\n",
      "weighted avg       0.89      0.89      0.89       271\n",
      "\n"
     ]
    }
   ],
   "source": [
    "# Model configuration 2: deeper/wider network with higher LR and slight regularization\n",
    "mlp2 = MLPClassifier(hidden_layer_sizes=(50,25), activation='relu', solver='adam', alpha=0.001, learning_rate_init=0.01, max_iter=500, random_state=42)\n",
    "mlp2.fit(X_train_scaled, y_train)\n",
    "y2_pred = mlp2.predict(X_test_scaled)\n",
    "print('MLP2 trained')\n",
    "print('Accuracy:', accuracy_score(y_test, y2_pred))\n",
    "print('Classification report (MLP2):')\n",
    "print(classification_report(y_test, y2_pred))"
   ]
  },
  {
   "cell_type": "code",
   "execution_count": 14,
   "id": "02bb1077",
   "metadata": {},
   "outputs": [
    {
     "data": {
      "image/png": "[encoded data removed]",
      "text/plain": [
       "<Figure size 1200x500 with 4 Axes>"
      ]
     },
     "metadata": {},
     "output_type": "display_data"
    }
   ],
   "source": [
    "# Confusion matrices and side-by-side comparison\n",
    "cm1 = confusion_matrix(y_test, y1_pred)\n",
    "cm2 = confusion_matrix(y_test, y2_pred)\n",
    "fig, axes = plt.subplots(1,2, figsize=(12,5))\n",
    "sns.heatmap(cm1, annot=True, fmt='d', cmap='Blues', ax=axes[0])\n",
    "axes[0].set_title('MLP1 Confusion Matrix')\n",
    "axes[0].set_xlabel('Predicted')\n",
    "axes[0].set_ylabel('Actual')\n",
    "sns.heatmap(cm2, annot=True, fmt='d', cmap='Blues', ax=axes[1])\n",
    "axes[1].set_title('MLP2 Confusion Matrix')\n",
    "axes[1].set_xlabel('Predicted')\n",
    "axes[1].set_ylabel('Actual')\n",
    "plt.tight_layout()\n",
    "plt.show()"
   ]
  },
  {
   "cell_type": "markdown",
   "id": "01e20a12",
   "metadata": {},
   "source": [
    "## Short analysis\n",
    "- We trained two MLP (BPN) models with different capacity and learning rate.\n",
    "- Compare precision/recall/F1 for the positive (phishing) class and check confusion matrices for which model better balances false positives vs false negatives.\n",
    "- Next steps (optional): hyperparameter search (GridSearchCV), cross-validation, class-weighting if classes are imbalanced, early stopping and learning-rate schedules."
   ]
  }
 ],
 "metadata": {
  "kernelspec": {
   "display_name": ".venv",
   "language": "python",
   "name": "python3"
  },
  "language_info": {
   "codemirror_mode": {
    "name": "ipython",
    "version": 3
   },
   "file_extension": ".py",
   "mimetype": "text/x-python",
   "name": "python",
   "nbconvert_exporter": "python",
   "pygments_lexer": "ipython3",
   "version": "3.13.7"
  }
 },
 "nbformat": 4,
 "nbformat_minor": 5
}
