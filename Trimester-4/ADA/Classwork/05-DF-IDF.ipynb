{
 "cells": [
  {
   "cell_type": "code",
   "execution_count": 1,
   "id": "a45998d1",
   "metadata": {},
   "outputs": [],
   "source": [
    "a = [ \"the cats are in the house\"\n",
    ",\"the dogs are in the house and outside\"\n",
    ",\"the cats and dogs are friendly\"]\n",
    "\n"
   ]
  },
  {
   "cell_type": "code",
   "execution_count": 2,
   "id": "be9ee099",
   "metadata": {},
   "outputs": [],
   "source": [
    "import pandas as pd\n",
    "import seaborn as sns\n",
    "import matplotlib.pyplot as plt\n",
    "from sklearn.feature_extraction.text import TfidfVectorizer"
   ]
  },
  {
   "cell_type": "code",
   "execution_count": 3,
   "id": "3379b120",
   "metadata": {},
   "outputs": [],
   "source": [
    "v = TfidfVectorizer(\n",
    "    stop_words='english', \n",
    "    lowercase=True,\n",
    "    ngram_range=(1, 2),\n",
    "    max_features=15,\n",
    "    min_df=1,\n",
    "    max_df=0.85\n",
    ")\n",
    "\n",
    "x = v.fit_transform(a) \n",
    "words = v.get_feature_names_out()\n"
   ]
  },
  {
   "cell_type": "code",
   "execution_count": 4,
   "id": "4e5160aa",
   "metadata": {},
   "outputs": [
    {
     "data": {
      "text/plain": [
       "array(['cats', 'cats dogs', 'cats house', 'dogs', 'dogs friendly',\n",
       "       'dogs house', 'friendly', 'house', 'house outside', 'outside'],\n",
       "      dtype=object)"
      ]
     },
     "execution_count": 4,
     "metadata": {},
     "output_type": "execute_result"
    }
   ],
   "source": [
    "words"
   ]
  },
  {
   "cell_type": "code",
   "execution_count": 5,
   "id": "88775e6e",
   "metadata": {},
   "outputs": [
    {
     "data": {
      "text/html": [
       "<div>\n",
       "<style scoped>\n",
       "    .dataframe tbody tr th:only-of-type {\n",
       "        vertical-align: middle;\n",
       "    }\n",
       "\n",
       "    .dataframe tbody tr th {\n",
       "        vertical-align: top;\n",
       "    }\n",
       "\n",
       "    .dataframe thead th {\n",
       "        text-align: right;\n",
       "    }\n",
       "</style>\n",
       "<table border=\"1\" class=\"dataframe\">\n",
       "  <thead>\n",
       "    <tr style=\"text-align: right;\">\n",
       "      <th></th>\n",
       "      <th>cats</th>\n",
       "      <th>cats dogs</th>\n",
       "      <th>cats house</th>\n",
       "      <th>dogs</th>\n",
       "      <th>dogs friendly</th>\n",
       "      <th>dogs house</th>\n",
       "      <th>friendly</th>\n",
       "      <th>house</th>\n",
       "      <th>house outside</th>\n",
       "      <th>outside</th>\n",
       "    </tr>\n",
       "  </thead>\n",
       "  <tbody>\n",
       "    <tr>\n",
       "      <th>0</th>\n",
       "      <td>0.517856</td>\n",
       "      <td>0.000000</td>\n",
       "      <td>0.680919</td>\n",
       "      <td>0.000000</td>\n",
       "      <td>0.000000</td>\n",
       "      <td>0.000000</td>\n",
       "      <td>0.000000</td>\n",
       "      <td>0.517856</td>\n",
       "      <td>0.000000</td>\n",
       "      <td>0.000000</td>\n",
       "    </tr>\n",
       "    <tr>\n",
       "      <th>1</th>\n",
       "      <td>0.000000</td>\n",
       "      <td>0.000000</td>\n",
       "      <td>0.000000</td>\n",
       "      <td>0.373022</td>\n",
       "      <td>0.000000</td>\n",
       "      <td>0.490479</td>\n",
       "      <td>0.000000</td>\n",
       "      <td>0.373022</td>\n",
       "      <td>0.490479</td>\n",
       "      <td>0.490479</td>\n",
       "    </tr>\n",
       "    <tr>\n",
       "      <th>2</th>\n",
       "      <td>0.373022</td>\n",
       "      <td>0.490479</td>\n",
       "      <td>0.000000</td>\n",
       "      <td>0.373022</td>\n",
       "      <td>0.490479</td>\n",
       "      <td>0.000000</td>\n",
       "      <td>0.490479</td>\n",
       "      <td>0.000000</td>\n",
       "      <td>0.000000</td>\n",
       "      <td>0.000000</td>\n",
       "    </tr>\n",
       "  </tbody>\n",
       "</table>\n",
       "</div>"
      ],
      "text/plain": [
       "       cats  cats dogs  cats house      dogs  dogs friendly  dogs house  \\\n",
       "0  0.517856   0.000000    0.680919  0.000000       0.000000    0.000000   \n",
       "1  0.000000   0.000000    0.000000  0.373022       0.000000    0.490479   \n",
       "2  0.373022   0.490479    0.000000  0.373022       0.490479    0.000000   \n",
       "\n",
       "   friendly     house  house outside   outside  \n",
       "0  0.000000  0.517856       0.000000  0.000000  \n",
       "1  0.000000  0.373022       0.490479  0.490479  \n",
       "2  0.490479  0.000000       0.000000  0.000000  "
      ]
     },
     "execution_count": 5,
     "metadata": {},
     "output_type": "execute_result"
    }
   ],
   "source": [
    "tf = pd.DataFrame(x.toarray(), columns=words)\n",
    "tf"
   ]
  },
  {
   "cell_type": "code",
   "execution_count": 6,
   "id": "2b28321a",
   "metadata": {},
   "outputs": [
    {
     "data": {
      "text/html": [
       "<div>\n",
       "<style scoped>\n",
       "    .dataframe tbody tr th:only-of-type {\n",
       "        vertical-align: middle;\n",
       "    }\n",
       "\n",
       "    .dataframe tbody tr th {\n",
       "        vertical-align: top;\n",
       "    }\n",
       "\n",
       "    .dataframe thead th {\n",
       "        text-align: right;\n",
       "    }\n",
       "</style>\n",
       "<table border=\"1\" class=\"dataframe\">\n",
       "  <thead>\n",
       "    <tr style=\"text-align: right;\">\n",
       "      <th></th>\n",
       "      <th>IDF</th>\n",
       "    </tr>\n",
       "  </thead>\n",
       "  <tbody>\n",
       "    <tr>\n",
       "      <th>cats</th>\n",
       "      <td>1.287682</td>\n",
       "    </tr>\n",
       "    <tr>\n",
       "      <th>cats dogs</th>\n",
       "      <td>1.693147</td>\n",
       "    </tr>\n",
       "    <tr>\n",
       "      <th>cats house</th>\n",
       "      <td>1.693147</td>\n",
       "    </tr>\n",
       "    <tr>\n",
       "      <th>dogs</th>\n",
       "      <td>1.287682</td>\n",
       "    </tr>\n",
       "    <tr>\n",
       "      <th>dogs friendly</th>\n",
       "      <td>1.693147</td>\n",
       "    </tr>\n",
       "    <tr>\n",
       "      <th>dogs house</th>\n",
       "      <td>1.693147</td>\n",
       "    </tr>\n",
       "    <tr>\n",
       "      <th>friendly</th>\n",
       "      <td>1.693147</td>\n",
       "    </tr>\n",
       "    <tr>\n",
       "      <th>house</th>\n",
       "      <td>1.287682</td>\n",
       "    </tr>\n",
       "    <tr>\n",
       "      <th>house outside</th>\n",
       "      <td>1.693147</td>\n",
       "    </tr>\n",
       "    <tr>\n",
       "      <th>outside</th>\n",
       "      <td>1.693147</td>\n",
       "    </tr>\n",
       "  </tbody>\n",
       "</table>\n",
       "</div>"
      ],
      "text/plain": [
       "                    IDF\n",
       "cats           1.287682\n",
       "cats dogs      1.693147\n",
       "cats house     1.693147\n",
       "dogs           1.287682\n",
       "dogs friendly  1.693147\n",
       "dogs house     1.693147\n",
       "friendly       1.693147\n",
       "house          1.287682\n",
       "house outside  1.693147\n",
       "outside        1.693147"
      ]
     },
     "execution_count": 6,
     "metadata": {},
     "output_type": "execute_result"
    }
   ],
   "source": [
    "idf_vals = v.idf_\n",
    "idf_df = pd.DataFrame(idf_vals, index=words, columns=['IDF'])\n",
    "idf_df"
   ]
  },
  {
   "cell_type": "code",
   "execution_count": 7,
   "id": "8268fb03",
   "metadata": {},
   "outputs": [
    {
     "data": {
      "text/html": [
       "<div>\n",
       "<style scoped>\n",
       "    .dataframe tbody tr th:only-of-type {\n",
       "        vertical-align: middle;\n",
       "    }\n",
       "\n",
       "    .dataframe tbody tr th {\n",
       "        vertical-align: top;\n",
       "    }\n",
       "\n",
       "    .dataframe thead th {\n",
       "        text-align: right;\n",
       "    }\n",
       "</style>\n",
       "<table border=\"1\" class=\"dataframe\">\n",
       "  <thead>\n",
       "    <tr style=\"text-align: right;\">\n",
       "      <th></th>\n",
       "      <th>cats</th>\n",
       "      <th>cats dogs</th>\n",
       "      <th>cats house</th>\n",
       "      <th>dogs</th>\n",
       "      <th>dogs friendly</th>\n",
       "      <th>dogs house</th>\n",
       "      <th>friendly</th>\n",
       "      <th>house</th>\n",
       "      <th>house outside</th>\n",
       "      <th>outside</th>\n",
       "    </tr>\n",
       "  </thead>\n",
       "  <tbody>\n",
       "    <tr>\n",
       "      <th>0</th>\n",
       "      <td>0.517856</td>\n",
       "      <td>0.000000</td>\n",
       "      <td>0.680919</td>\n",
       "      <td>0.000000</td>\n",
       "      <td>0.000000</td>\n",
       "      <td>0.000000</td>\n",
       "      <td>0.000000</td>\n",
       "      <td>0.517856</td>\n",
       "      <td>0.000000</td>\n",
       "      <td>0.000000</td>\n",
       "    </tr>\n",
       "    <tr>\n",
       "      <th>1</th>\n",
       "      <td>0.000000</td>\n",
       "      <td>0.000000</td>\n",
       "      <td>0.000000</td>\n",
       "      <td>0.373022</td>\n",
       "      <td>0.000000</td>\n",
       "      <td>0.490479</td>\n",
       "      <td>0.000000</td>\n",
       "      <td>0.373022</td>\n",
       "      <td>0.490479</td>\n",
       "      <td>0.490479</td>\n",
       "    </tr>\n",
       "    <tr>\n",
       "      <th>2</th>\n",
       "      <td>0.373022</td>\n",
       "      <td>0.490479</td>\n",
       "      <td>0.000000</td>\n",
       "      <td>0.373022</td>\n",
       "      <td>0.490479</td>\n",
       "      <td>0.000000</td>\n",
       "      <td>0.490479</td>\n",
       "      <td>0.000000</td>\n",
       "      <td>0.000000</td>\n",
       "      <td>0.000000</td>\n",
       "    </tr>\n",
       "  </tbody>\n",
       "</table>\n",
       "</div>"
      ],
      "text/plain": [
       "       cats  cats dogs  cats house      dogs  dogs friendly  dogs house  \\\n",
       "0  0.517856   0.000000    0.680919  0.000000       0.000000    0.000000   \n",
       "1  0.000000   0.000000    0.000000  0.373022       0.000000    0.490479   \n",
       "2  0.373022   0.490479    0.000000  0.373022       0.490479    0.000000   \n",
       "\n",
       "   friendly     house  house outside   outside  \n",
       "0  0.000000  0.517856       0.000000  0.000000  \n",
       "1  0.000000  0.373022       0.490479  0.490479  \n",
       "2  0.490479  0.000000       0.000000  0.000000  "
      ]
     },
     "execution_count": 7,
     "metadata": {},
     "output_type": "execute_result"
    }
   ],
   "source": [
    "tfidf_df = pd.DataFrame(x.toarray(), columns=words)\n",
    "tfidf_df"
   ]
  },
  {
   "cell_type": "code",
   "execution_count": 8,
   "id": "230a60de",
   "metadata": {},
   "outputs": [
    {
     "data": {
      "image/png": "[encoded data removed]",
      "text/plain": [
       "<Figure size 800x200 with 2 Axes>"
      ]
     },
     "metadata": {},
     "output_type": "display_data"
    }
   ],
   "source": [
    "plt.figure(figsize=(8, 2))\n",
    "sns.heatmap(tfidf_df, annot=True, cmap='viridis', cbar=True)\n",
    "plt.title('TF-IDF Matrix Heatmap')\n",
    "plt.xlabel('Words')\n",
    "plt.ylabel('Documents')\n",
    "plt.show()"
   ]
  },
  {
   "cell_type": "code",
   "execution_count": 9,
   "id": "afc0348a",
   "metadata": {},
   "outputs": [],
   "source": [
    "docs = [\n",
    "    \"Barack Obama was born in Hawaii. Barack Obama was born in.  He was the 44th President of the United States.\",\n",
    "    \"Apple Inc. was founded by Steve Jobs and is headquartered in Cupertino, California.\",\n",
    "    \"Python is a programming language used widely in data science.\"\n",
    "]"
   ]
  },
  {
   "cell_type": "code",
   "execution_count": 11,
   "id": "d7a1dad0",
   "metadata": {},
   "outputs": [],
   "source": [
    "import nltk\n",
    "import spacy\n",
    "from nltk.util import ngrams\n",
    "from collections import Counter\n",
    "\n",
    "nlp = spacy.load(\"en_core_web_sm\")\n"
   ]
  },
  {
   "cell_type": "code",
   "execution_count": 12,
   "id": "e6e8c301",
   "metadata": {},
   "outputs": [
    {
     "name": "stdout",
     "output_type": "stream",
     "text": [
      "Document 1: Barack Obama was born in Hawaii. Barack Obama was born in.  He was the 44th President of the United States.\n",
      "Entity: Barack Obama, Label: PERSON\n",
      "Entity: Hawaii, Label: GPE\n",
      "Entity: Barack Obama, Label: PERSON\n",
      "Entity: 44th, Label: ORDINAL\n",
      "Entity: the United States, Label: GPE\n",
      "Document 2: Apple Inc. was founded by Steve Jobs and is headquartered in Cupertino, California.\n",
      "Entity: Apple Inc., Label: ORG\n",
      "Entity: Steve Jobs, Label: PERSON\n",
      "Entity: Cupertino, Label: GPE\n",
      "Entity: California, Label: GPE\n",
      "Document 3: Python is a programming language used widely in data science.\n"
     ]
    }
   ],
   "source": [
    "for i, doc in enumerate(docs):\n",
    "    print(f\"Document {i+1}: {doc}\")\n",
    "    parsec_doc = nlp(doc)\n",
    "    for ent in parsec_doc.ents:\n",
    "        print(f\"Entity: {ent.text}, Label: {ent.label_}\")"
   ]
  },
  {
   "cell_type": "code",
   "execution_count": 14,
   "id": "96f58f5a",
   "metadata": {},
   "outputs": [
    {
     "name": "stdout",
     "output_type": "stream",
     "text": [
      "\n",
      "Document 1:\n",
      "Bigrams: [(('barack', 'obama'), 2), (('obama', 'was'), 2), (('was', 'born'), 2), (('born', 'in'), 2), (('in', 'hawaii'), 1)]\n",
      "Trigrams: [(('barack', 'obama', 'was'), 2), (('obama', 'was', 'born'), 2), (('was', 'born', 'in'), 2), (('born', 'in', 'hawaii'), 1), (('in', 'hawaii', '.'), 1)]\n",
      "\n",
      "Document 2:\n",
      "Bigrams: [(('apple', 'inc.'), 1), (('inc.', 'was'), 1), (('was', 'founded'), 1), (('founded', 'by'), 1), (('by', 'steve'), 1)]\n",
      "Trigrams: [(('apple', 'inc.', 'was'), 1), (('inc.', 'was', 'founded'), 1), (('was', 'founded', 'by'), 1), (('founded', 'by', 'steve'), 1), (('by', 'steve', 'jobs'), 1)]\n",
      "\n",
      "Document 3:\n",
      "Bigrams: [(('python', 'is'), 1), (('is', 'a'), 1), (('a', 'programming'), 1), (('programming', 'language'), 1), (('language', 'used'), 1)]\n",
      "Trigrams: [(('python', 'is', 'a'), 1), (('is', 'a', 'programming'), 1), (('a', 'programming', 'language'), 1), (('programming', 'language', 'used'), 1), (('language', 'used', 'widely'), 1)]\n"
     ]
    }
   ],
   "source": [
    "for i, doc in enumerate(docs):\n",
    "    print(f\"\\nDocument {i+1}:\")\n",
    "\n",
    "    tokens = nltk.word_tokenize(doc.lower())\n",
    "    bigrams = list(ngrams(tokens, 2))\n",
    "    trigrams = list(ngrams(tokens, 3))\n",
    "\n",
    "    print(f\"Bigrams: {Counter(bigrams).most_common(5)}\")\n",
    "    print(f\"Trigrams: {Counter(trigrams).most_common(5)}\")"
   ]
  },
  {
   "cell_type": "markdown",
   "id": "d6ff2db8",
   "metadata": {},
   "source": [
    "### text classification and clustering"
   ]
  },
  {
   "cell_type": "code",
   "execution_count": 16,
   "id": "cc3b5f6a",
   "metadata": {},
   "outputs": [
    {
     "data": {
      "text/plain": [
       "<module 'nltk' from 'c:\\\\Users\\\\shrey\\\\AppData\\\\Local\\\\Programs\\\\Python\\\\Python313\\\\Lib\\\\site-packages\\\\nltk\\\\__init__.py'>"
      ]
     },
     "execution_count": 16,
     "metadata": {},
     "output_type": "execute_result"
    }
   ],
   "source": [
    "from sklearn.linear_model import LogisticRegression\n",
    "from sklearn.cluster import KMeans\n",
    "from sklearn.model_selection import train_test_split\n",
    "from sklearn.metrics import classification_report\n",
    "\n",
    "nltk"
   ]
  },
  {
   "cell_type": "code",
   "execution_count": 17,
   "id": "c9be11f7",
   "metadata": {},
   "outputs": [],
   "source": [
    "texts = [\n",
    "    \"Barack Obama was born in Hawaii.\",\n",
    "    \"Apple Inc. was founded by Steve Jobs.\",\n",
    "    \"Python is a powerful programming language.\",\n",
    "    \"Microsoft was founded by Bill Gates.\",\n",
    "    \"The United Nations is based in New York.\",\n",
    "    \"New York is a major tech hub.\"\n",
    "]\n",
    "labels = [1, 1, 0, 1, 1, 0]  # 1 = org/person-based, 0 = neutral/technical\n"
   ]
  },
  {
   "cell_type": "code",
   "execution_count": 24,
   "id": "894f4728",
   "metadata": {},
   "outputs": [],
   "source": [
    "texts += [\n",
    "    \"Elon Musk founded SpaceX to revolutionize space travel.\",  # 1\n",
    "    \"The Eiffel Tower is a famous landmark in Paris.\",           # 0\n",
    "    \"Google was created by Larry Page and Sergey Brin.\",         # 1\n",
    "    \"C++ is widely used in systems programming.\",                # 0\n",
    "    \"NASA launched the Artemis program to return to the Moon.\",  # 1\n",
    "    \"Blockchain is a decentralized digital ledger.\",             # 0\n",
    "    \"Amazon was started by Jeff Bezos in a garage.\",             # 1\n",
    "    \"Water boils at 100 degrees Celsius at sea level.\",          # 0\n",
    "    \"Mark Zuckerberg is the CEO of Meta Platforms.\",             # 1\n",
    "    \"The Internet of Things connects everyday devices.\",          # 0\n",
    "    \"Satya Nadella leads Microsoft as its CEO.\",                 # 1\n",
    "    \"Machine learning models require large datasets.\",           # 0\n",
    "    \"The World Health Organization combats global diseases.\",    # 1\n",
    "    \"5G technology enables faster mobile internet speeds.\",       # 0\n",
    "    \"Tesla produces electric cars and solar products.\",          # 1\n",
    "    \"Virtual reality is used in gaming and education.\",           # 0\n",
    "    \"Tim Cook took over as Apple’s CEO after Steve Jobs.\",       # 1\n",
    "    \"Cloud computing allows access to data from anywhere.\",       # 0\n",
    "    \"Malala Yousafzai advocates for girls' education.\",          # 1\n",
    "    \"A compiler translates source code into machine code.\",       # 0\n",
    "    \"Sundar Pichai is the CEO of Alphabet Inc.\",                 # 1\n",
    "    \"Photosynthesis converts sunlight into chemical energy.\",     # 0\n",
    "    \"The Red Cross provides humanitarian aid worldwide.\",        # 1\n",
    "    \"Encryption ensures secure communication over networks.\",     # 0\n",
    "    \"Oprah Winfrey is a renowned media executive and host.\"      # 1\n",
    "]\n",
    "\n",
    "labels += [\n",
    "    1, 0, 1, 0, 1, 0, 1, 0, 1, 0,\n",
    "    1, 0, 1, 0, 1, 0, 1, 0, 1, 0,\n",
    "    1, 0, 1, 0, 1\n",
    "]"
   ]
  },
  {
   "cell_type": "code",
   "execution_count": 25,
   "id": "bae2e2e2",
   "metadata": {},
   "outputs": [
    {
     "data": {
      "text/plain": [
       "<Compressed Sparse Row sparse matrix of dtype 'float64'\n",
       "\twith 220 stored elements and shape (31, 165)>"
      ]
     },
     "execution_count": 25,
     "metadata": {},
     "output_type": "execute_result"
    }
   ],
   "source": [
    "v = TfidfVectorizer()\n",
    "\n",
    "x = v.fit_transform(texts)\n",
    "x"
   ]
  },
  {
   "cell_type": "code",
   "execution_count": 29,
   "id": "d87ac004",
   "metadata": {},
   "outputs": [
    {
     "name": "stdout",
     "output_type": "stream",
     "text": [
      "              precision    recall  f1-score   support\n",
      "\n",
      "           0       0.00      0.00      0.00         8\n",
      "           1       0.50      1.00      0.67         8\n",
      "\n",
      "    accuracy                           0.50        16\n",
      "   macro avg       0.25      0.50      0.33        16\n",
      "weighted avg       0.25      0.50      0.33        16\n",
      "\n"
     ]
    },
    {
     "name": "stderr",
     "output_type": "stream",
     "text": [
      "c:\\Users\\shrey\\AppData\\Local\\Programs\\Python\\Python313\\Lib\\site-packages\\sklearn\\metrics\\_classification.py:1706: UndefinedMetricWarning: Precision is ill-defined and being set to 0.0 in labels with no predicted samples. Use `zero_division` parameter to control this behavior.\n",
      "  _warn_prf(average, modifier, f\"{metric.capitalize()} is\", result.shape[0])\n",
      "c:\\Users\\shrey\\AppData\\Local\\Programs\\Python\\Python313\\Lib\\site-packages\\sklearn\\metrics\\_classification.py:1706: UndefinedMetricWarning: Precision is ill-defined and being set to 0.0 in labels with no predicted samples. Use `zero_division` parameter to control this behavior.\n",
      "  _warn_prf(average, modifier, f\"{metric.capitalize()} is\", result.shape[0])\n",
      "c:\\Users\\shrey\\AppData\\Local\\Programs\\Python\\Python313\\Lib\\site-packages\\sklearn\\metrics\\_classification.py:1706: UndefinedMetricWarning: Precision is ill-defined and being set to 0.0 in labels with no predicted samples. Use `zero_division` parameter to control this behavior.\n",
      "  _warn_prf(average, modifier, f\"{metric.capitalize()} is\", result.shape[0])\n"
     ]
    }
   ],
   "source": [
    "x_train, x_test, y_train, y_test = train_test_split(x, labels, test_size=0.5, random_state=63)\n",
    "clf = LogisticRegression()\n",
    "clf.fit(x_train, y_train)\n",
    "y_pred = clf.predict(x_test)\n",
    "print(classification_report(y_test, y_pred))"
   ]
  },
  {
   "cell_type": "code",
   "execution_count": 30,
   "id": "aac9e503",
   "metadata": {},
   "outputs": [
    {
     "name": "stdout",
     "output_type": "stream",
     "text": [
      "Document 1 is in cluster 0\n",
      "Document 2 is in cluster 1\n",
      "Document 3 is in cluster 0\n",
      "Document 4 is in cluster 0\n",
      "Document 5 is in cluster 0\n",
      "Document 6 is in cluster 0\n",
      "Document 7 is in cluster 0\n",
      "Document 8 is in cluster 0\n",
      "Document 9 is in cluster 0\n",
      "Document 10 is in cluster 0\n",
      "Document 11 is in cluster 0\n",
      "Document 12 is in cluster 0\n",
      "Document 13 is in cluster 0\n",
      "Document 14 is in cluster 0\n",
      "Document 15 is in cluster 1\n",
      "Document 16 is in cluster 0\n",
      "Document 17 is in cluster 1\n",
      "Document 18 is in cluster 0\n",
      "Document 19 is in cluster 0\n",
      "Document 20 is in cluster 0\n",
      "Document 21 is in cluster 0\n",
      "Document 22 is in cluster 0\n",
      "Document 23 is in cluster 1\n",
      "Document 24 is in cluster 0\n",
      "Document 25 is in cluster 0\n",
      "Document 26 is in cluster 0\n",
      "Document 27 is in cluster 1\n",
      "Document 28 is in cluster 0\n",
      "Document 29 is in cluster 0\n",
      "Document 30 is in cluster 1\n",
      "Document 31 is in cluster 0\n"
     ]
    }
   ],
   "source": [
    "kmeans = KMeans(n_clusters=2, random_state=42)\n",
    "clusters = kmeans.fit_predict(x)\n",
    "\n",
    "for i, pred in enumerate(clusters):\n",
    "    print(f\"Document {i+1} is in cluster {pred}\")"
   ]
  },
  {
   "cell_type": "code",
   "execution_count": 32,
   "id": "b41cf0a0",
   "metadata": {},
   "outputs": [
    {
     "name": "stdout",
     "output_type": "stream",
     "text": [
      "Silhouette Score: 0.010\n"
     ]
    }
   ],
   "source": [
    "from sklearn.metrics import silhouette_score\n",
    "\n",
    "s = silhouette_score(x, clusters)\n",
    "print(f\"Silhouette Score: {s:.3f}\")"
   ]
  }
 ],
 "metadata": {
  "kernelspec": {
   "display_name": "Python 3",
   "language": "python",
   "name": "python3"
  },
  "language_info": {
   "codemirror_mode": {
    "name": "ipython",
    "version": 3
   },
   "file_extension": ".py",
   "mimetype": "text/x-python",
   "name": "python",
   "nbconvert_exporter": "python",
   "pygments_lexer": "ipython3",
   "version": "3.13.0"
  }
 },
 "nbformat": 4,
 "nbformat_minor": 5
}
