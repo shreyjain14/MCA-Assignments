{
 "cells": [
  {
   "cell_type": "code",
   "execution_count": 3,
   "id": "e5adb1b6",
   "metadata": {},
   "outputs": [
    {
     "name": "stdout",
     "output_type": "stream",
     "text": [
      "Requirement already satisfied: scipy in c:\\users\\shrey\\appdata\\local\\programs\\python\\python313\\lib\\site-packages (1.15.3)\n",
      "Requirement already satisfied: numpy<2.5,>=1.23.5 in c:\\users\\shrey\\appdata\\local\\programs\\python\\python313\\lib\\site-packages (from scipy) (2.2.6)\n",
      "Note: you may need to restart the kernel to use updated packages.\n"
     ]
    },
    {
     "name": "stderr",
     "output_type": "stream",
     "text": [
      "\n",
      "[notice] A new release of pip is available: 24.2 -> 25.1.1\n",
      "[notice] To update, run: python.exe -m pip install --upgrade pip\n"
     ]
    }
   ],
   "source": [
    "%pip install scipy"
   ]
  },
  {
   "cell_type": "code",
   "execution_count": 7,
   "id": "16617929",
   "metadata": {},
   "outputs": [],
   "source": [
    "import numpy as np\n",
    "import matplotlib.pyplot as plt\n",
    "from scipy import ndimage\n",
    "from skimage import data, color"
   ]
  },
  {
   "cell_type": "code",
   "execution_count": 13,
   "id": "5fa85baf",
   "metadata": {},
   "outputs": [],
   "source": [
    "input = np.array([[2, 1, 2, 7, 4, 9, 5, 9, 7, 5],\n",
    "                  [7, 7, 4, 4, 5, 5, 3, 9, 3, 5],\n",
    "                  [0, 5, 0, 8, 1, 6, 3, 7, 8, 6],\n",
    "                  [3, 6, 1, 4, 0, 1, 5, 5, 9, 2],\n",
    "                  [2, 2, 9, 8, 8, 8, 0, 2, 9, 4],\n",
    "                  [5, 9, 4, 7, 4, 5, 2, 0, 7, 4],\n",
    "                  [4, 6, 1, 3, 4, 1, 4, 4, 4, 7],\n",
    "                  [9, 4, 7, 9, 9, 9, 5, 0, 2, 4],\n",
    "                  [9, 9, 9, 3, 5, 3, 7, 5, 9, 4],\n",
    "                  [3, 0, 6, 3, 7, 5, 4, 0, 2, 0]])"
   ]
  },
  {
   "cell_type": "code",
   "execution_count": 10,
   "id": "20809ca5",
   "metadata": {},
   "outputs": [],
   "source": [
    "k = np.array([[0, -1, 0,],\n",
    "             [-1, 5, -1],\n",
    "             [0, -1, 0]])"
   ]
  },
  {
   "cell_type": "code",
   "execution_count": 14,
   "id": "a9632368",
   "metadata": {},
   "outputs": [
    {
     "data": {
      "text/plain": [
       "array([[ -2,  -7,  -4,  18,  -5,  22,  -1,  15,  11,   3],\n",
       "       [ 19,  18,   7,  -4,  11,   2,  -7,  23, -14,   6],\n",
       "       [-15,  12, -18,  31, -14,  20,  -6,  10,  15,   9],\n",
       "       [  4,  19, -14,   3, -14, -14,  16,   2,  21, -11],\n",
       "       [ -2, -16,  30,  12,  20,  26, -17,  -4,  23,   1],\n",
       "       [  5,  28,  -6,  16,  -4,  10,   1, -15,  18,  -2],\n",
       "       [ -4,  12, -15,  -6,   3, -17,   8,  12,   0,  16],\n",
       "       [ 19, -11,  12,  23,  18,  27,   5, -16,  -7,   3],\n",
       "       [ 15,  23,  20, -11,   3, -11,  18,   9,  32,   3],\n",
       "       [  0, -18,  12,  -4,  15,   6,   4, -11,  -1,  -6]])"
      ]
     },
     "execution_count": 14,
     "metadata": {},
     "output_type": "execute_result"
    }
   ],
   "source": [
    "conv_img = ndimage.convolve(input, k)\n",
    "conv_img"
   ]
  }
 ],
 "metadata": {
  "kernelspec": {
   "display_name": "Python 3",
   "language": "python",
   "name": "python3"
  },
  "language_info": {
   "codemirror_mode": {
    "name": "ipython",
    "version": 3
   },
   "file_extension": ".py",
   "mimetype": "text/x-python",
   "name": "python",
   "nbconvert_exporter": "python",
   "pygments_lexer": "ipython3",
   "version": "3.13.0"
  }
 },
 "nbformat": 4,
 "nbformat_minor": 5
}
