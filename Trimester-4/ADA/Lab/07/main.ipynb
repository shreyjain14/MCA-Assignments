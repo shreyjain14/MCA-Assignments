{
 "cells": [
  {
   "cell_type": "markdown",
   "id": "23395c4d",
   "metadata": {},
   "source": [
    "## 1. Data Loading and Understanding"
   ]
  },
  {
   "cell_type": "code",
   "execution_count": 83,
   "id": "42fe00a8",
   "metadata": {},
   "outputs": [],
   "source": [
    "# Import required libraries\n",
    "import pandas as pd\n",
    "import numpy as np\n",
    "import matplotlib.pyplot as plt\n",
    "import seaborn as sns\n",
    "from sklearn.model_selection import train_test_split\n",
    "from sklearn.linear_model import LogisticRegression\n",
    "from sklearn.ensemble import RandomForestClassifier\n",
    "from sklearn.preprocessing import LabelEncoder\n",
    "from sklearn.metrics import classification_report, confusion_matrix, accuracy_score\n",
    "from sklearn.metrics import ConfusionMatrixDisplay\n",
    "import warnings\n",
    "warnings.filterwarnings('ignore')\n",
    "\n",
    "# Set style for better plots\n",
    "plt.style.use('default')\n",
    "sns.set_palette(\"husl\")"
   ]
  },
  {
   "cell_type": "code",
   "execution_count": 84,
   "id": "67a85ce5",
   "metadata": {},
   "outputs": [
    {
     "data": {
      "text/plain": [
       "(1000, 8)"
      ]
     },
     "execution_count": 84,
     "metadata": {},
     "output_type": "execute_result"
    }
   ],
   "source": [
    "# Load the dataset\n",
    "df = pd.read_csv('StudentsPerformance.csv')\n",
    "\n",
    "# Display basic information about the dataset\n",
    "df.shape"
   ]
  },
  {
   "cell_type": "code",
   "execution_count": 85,
   "id": "5db4b602",
   "metadata": {},
   "outputs": [
    {
     "data": {
      "text/html": [
       "<div>\n",
       "<style scoped>\n",
       "    .dataframe tbody tr th:only-of-type {\n",
       "        vertical-align: middle;\n",
       "    }\n",
       "\n",
       "    .dataframe tbody tr th {\n",
       "        vertical-align: top;\n",
       "    }\n",
       "\n",
       "    .dataframe thead th {\n",
       "        text-align: right;\n",
       "    }\n",
       "</style>\n",
       "<table border=\"1\" class=\"dataframe\">\n",
       "  <thead>\n",
       "    <tr style=\"text-align: right;\">\n",
       "      <th></th>\n",
       "      <th>gender</th>\n",
       "      <th>race/ethnicity</th>\n",
       "      <th>parental level of education</th>\n",
       "      <th>lunch</th>\n",
       "      <th>test preparation course</th>\n",
       "      <th>math score</th>\n",
       "      <th>reading score</th>\n",
       "      <th>writing score</th>\n",
       "    </tr>\n",
       "  </thead>\n",
       "  <tbody>\n",
       "    <tr>\n",
       "      <th>0</th>\n",
       "      <td>female</td>\n",
       "      <td>group B</td>\n",
       "      <td>bachelor's degree</td>\n",
       "      <td>standard</td>\n",
       "      <td>none</td>\n",
       "      <td>72</td>\n",
       "      <td>72</td>\n",
       "      <td>74</td>\n",
       "    </tr>\n",
       "    <tr>\n",
       "      <th>1</th>\n",
       "      <td>female</td>\n",
       "      <td>group C</td>\n",
       "      <td>some college</td>\n",
       "      <td>standard</td>\n",
       "      <td>completed</td>\n",
       "      <td>69</td>\n",
       "      <td>90</td>\n",
       "      <td>88</td>\n",
       "    </tr>\n",
       "    <tr>\n",
       "      <th>2</th>\n",
       "      <td>female</td>\n",
       "      <td>group B</td>\n",
       "      <td>master's degree</td>\n",
       "      <td>standard</td>\n",
       "      <td>none</td>\n",
       "      <td>90</td>\n",
       "      <td>95</td>\n",
       "      <td>93</td>\n",
       "    </tr>\n",
       "    <tr>\n",
       "      <th>3</th>\n",
       "      <td>male</td>\n",
       "      <td>group A</td>\n",
       "      <td>associate's degree</td>\n",
       "      <td>free/reduced</td>\n",
       "      <td>none</td>\n",
       "      <td>47</td>\n",
       "      <td>57</td>\n",
       "      <td>44</td>\n",
       "    </tr>\n",
       "    <tr>\n",
       "      <th>4</th>\n",
       "      <td>male</td>\n",
       "      <td>group C</td>\n",
       "      <td>some college</td>\n",
       "      <td>standard</td>\n",
       "      <td>none</td>\n",
       "      <td>76</td>\n",
       "      <td>78</td>\n",
       "      <td>75</td>\n",
       "    </tr>\n",
       "  </tbody>\n",
       "</table>\n",
       "</div>"
      ],
      "text/plain": [
       "   gender race/ethnicity parental level of education         lunch  \\\n",
       "0  female        group B           bachelor's degree      standard   \n",
       "1  female        group C                some college      standard   \n",
       "2  female        group B             master's degree      standard   \n",
       "3    male        group A          associate's degree  free/reduced   \n",
       "4    male        group C                some college      standard   \n",
       "\n",
       "  test preparation course  math score  reading score  writing score  \n",
       "0                    none          72             72             74  \n",
       "1               completed          69             90             88  \n",
       "2                    none          90             95             93  \n",
       "3                    none          47             57             44  \n",
       "4                    none          76             78             75  "
      ]
     },
     "execution_count": 85,
     "metadata": {},
     "output_type": "execute_result"
    }
   ],
   "source": [
    "# Display first few rows\n",
    "df.head()"
   ]
  },
  {
   "cell_type": "code",
   "execution_count": 86,
   "id": "d214d996",
   "metadata": {},
   "outputs": [
    {
     "name": "stdout",
     "output_type": "stream",
     "text": [
      "<class 'pandas.core.frame.DataFrame'>\n",
      "RangeIndex: 1000 entries, 0 to 999\n",
      "Data columns (total 8 columns):\n",
      " #   Column                       Non-Null Count  Dtype \n",
      "---  ------                       --------------  ----- \n",
      " 0   gender                       1000 non-null   object\n",
      " 1   race/ethnicity               1000 non-null   object\n",
      " 2   parental level of education  1000 non-null   object\n",
      " 3   lunch                        1000 non-null   object\n",
      " 4   test preparation course      1000 non-null   object\n",
      " 5   math score                   1000 non-null   int64 \n",
      " 6   reading score                1000 non-null   int64 \n",
      " 7   writing score                1000 non-null   int64 \n",
      "dtypes: int64(3), object(5)\n",
      "memory usage: 62.6+ KB\n"
     ]
    }
   ],
   "source": [
    "# Data types and info\n",
    "df.info()"
   ]
  },
  {
   "cell_type": "code",
   "execution_count": 87,
   "id": "aafb2dfa",
   "metadata": {},
   "outputs": [
    {
     "data": {
      "text/html": [
       "<div>\n",
       "<style scoped>\n",
       "    .dataframe tbody tr th:only-of-type {\n",
       "        vertical-align: middle;\n",
       "    }\n",
       "\n",
       "    .dataframe tbody tr th {\n",
       "        vertical-align: top;\n",
       "    }\n",
       "\n",
       "    .dataframe thead th {\n",
       "        text-align: right;\n",
       "    }\n",
       "</style>\n",
       "<table border=\"1\" class=\"dataframe\">\n",
       "  <thead>\n",
       "    <tr style=\"text-align: right;\">\n",
       "      <th></th>\n",
       "      <th>math score</th>\n",
       "      <th>reading score</th>\n",
       "      <th>writing score</th>\n",
       "    </tr>\n",
       "  </thead>\n",
       "  <tbody>\n",
       "    <tr>\n",
       "      <th>count</th>\n",
       "      <td>1000.00000</td>\n",
       "      <td>1000.000000</td>\n",
       "      <td>1000.000000</td>\n",
       "    </tr>\n",
       "    <tr>\n",
       "      <th>mean</th>\n",
       "      <td>66.08900</td>\n",
       "      <td>69.169000</td>\n",
       "      <td>68.054000</td>\n",
       "    </tr>\n",
       "    <tr>\n",
       "      <th>std</th>\n",
       "      <td>15.16308</td>\n",
       "      <td>14.600192</td>\n",
       "      <td>15.195657</td>\n",
       "    </tr>\n",
       "    <tr>\n",
       "      <th>min</th>\n",
       "      <td>0.00000</td>\n",
       "      <td>17.000000</td>\n",
       "      <td>10.000000</td>\n",
       "    </tr>\n",
       "    <tr>\n",
       "      <th>25%</th>\n",
       "      <td>57.00000</td>\n",
       "      <td>59.000000</td>\n",
       "      <td>57.750000</td>\n",
       "    </tr>\n",
       "    <tr>\n",
       "      <th>50%</th>\n",
       "      <td>66.00000</td>\n",
       "      <td>70.000000</td>\n",
       "      <td>69.000000</td>\n",
       "    </tr>\n",
       "    <tr>\n",
       "      <th>75%</th>\n",
       "      <td>77.00000</td>\n",
       "      <td>79.000000</td>\n",
       "      <td>79.000000</td>\n",
       "    </tr>\n",
       "    <tr>\n",
       "      <th>max</th>\n",
       "      <td>100.00000</td>\n",
       "      <td>100.000000</td>\n",
       "      <td>100.000000</td>\n",
       "    </tr>\n",
       "  </tbody>\n",
       "</table>\n",
       "</div>"
      ],
      "text/plain": [
       "       math score  reading score  writing score\n",
       "count  1000.00000    1000.000000    1000.000000\n",
       "mean     66.08900      69.169000      68.054000\n",
       "std      15.16308      14.600192      15.195657\n",
       "min       0.00000      17.000000      10.000000\n",
       "25%      57.00000      59.000000      57.750000\n",
       "50%      66.00000      70.000000      69.000000\n",
       "75%      77.00000      79.000000      79.000000\n",
       "max     100.00000     100.000000     100.000000"
      ]
     },
     "execution_count": 87,
     "metadata": {},
     "output_type": "execute_result"
    }
   ],
   "source": [
    "# Statistical summary\n",
    "df.describe()"
   ]
  },
  {
   "cell_type": "markdown",
   "id": "292bfe3c",
   "metadata": {},
   "source": [
    "## 2. Data Cleaning and Preparation"
   ]
  },
  {
   "cell_type": "code",
   "execution_count": 88,
   "id": "1e6c7a6d",
   "metadata": {},
   "outputs": [
    {
     "data": {
      "text/plain": [
       "gender                         0\n",
       "race/ethnicity                 0\n",
       "parental level of education    0\n",
       "lunch                          0\n",
       "test preparation course        0\n",
       "math score                     0\n",
       "reading score                  0\n",
       "writing score                  0\n",
       "dtype: int64"
      ]
     },
     "execution_count": 88,
     "metadata": {},
     "output_type": "execute_result"
    }
   ],
   "source": [
    "# Check for missing values\n",
    "missing_values = df.isnull().sum()\n",
    "missing_values"
   ]
  },
  {
   "cell_type": "code",
   "execution_count": 89,
   "id": "999f4dbd",
   "metadata": {},
   "outputs": [
    {
     "name": "stdout",
     "output_type": "stream",
     "text": [
      "gender: ['female' 'male']\n",
      "Count: 2\n",
      "\n",
      "race/ethnicity: ['group B' 'group C' 'group A' 'group D' 'group E']\n",
      "Count: 5\n",
      "\n",
      "parental level of education: [\"bachelor's degree\" 'some college' \"master's degree\" \"associate's degree\"\n",
      " 'high school' 'some high school']\n",
      "Count: 6\n",
      "\n",
      "lunch: ['standard' 'free/reduced']\n",
      "Count: 2\n",
      "\n",
      "test preparation course: ['none' 'completed']\n",
      "Count: 2\n",
      "\n"
     ]
    }
   ],
   "source": [
    "# Check unique values in categorical columns\n",
    "for col in df.select_dtypes(include='object').columns:\n",
    "    print(f\"{col}: {df[col].unique()}\")\n",
    "    print(f\"Count: {len(df[col].unique())}\\n\")"
   ]
  },
  {
   "cell_type": "code",
   "execution_count": 90,
   "id": "c438fbf1",
   "metadata": {},
   "outputs": [
    {
     "data": {
      "text/html": [
       "<div>\n",
       "<style scoped>\n",
       "    .dataframe tbody tr th:only-of-type {\n",
       "        vertical-align: middle;\n",
       "    }\n",
       "\n",
       "    .dataframe tbody tr th {\n",
       "        vertical-align: top;\n",
       "    }\n",
       "\n",
       "    .dataframe thead th {\n",
       "        text-align: right;\n",
       "    }\n",
       "</style>\n",
       "<table border=\"1\" class=\"dataframe\">\n",
       "  <thead>\n",
       "    <tr style=\"text-align: right;\">\n",
       "      <th></th>\n",
       "      <th>math score</th>\n",
       "      <th>reading score</th>\n",
       "      <th>writing score</th>\n",
       "      <th>AVG_SCORE</th>\n",
       "      <th>AT_RISK</th>\n",
       "    </tr>\n",
       "  </thead>\n",
       "  <tbody>\n",
       "    <tr>\n",
       "      <th>0</th>\n",
       "      <td>72</td>\n",
       "      <td>72</td>\n",
       "      <td>74</td>\n",
       "      <td>72.666667</td>\n",
       "      <td>0</td>\n",
       "    </tr>\n",
       "    <tr>\n",
       "      <th>1</th>\n",
       "      <td>69</td>\n",
       "      <td>90</td>\n",
       "      <td>88</td>\n",
       "      <td>82.333333</td>\n",
       "      <td>0</td>\n",
       "    </tr>\n",
       "    <tr>\n",
       "      <th>2</th>\n",
       "      <td>90</td>\n",
       "      <td>95</td>\n",
       "      <td>93</td>\n",
       "      <td>92.666667</td>\n",
       "      <td>0</td>\n",
       "    </tr>\n",
       "    <tr>\n",
       "      <th>3</th>\n",
       "      <td>47</td>\n",
       "      <td>57</td>\n",
       "      <td>44</td>\n",
       "      <td>49.333333</td>\n",
       "      <td>0</td>\n",
       "    </tr>\n",
       "    <tr>\n",
       "      <th>4</th>\n",
       "      <td>76</td>\n",
       "      <td>78</td>\n",
       "      <td>75</td>\n",
       "      <td>76.333333</td>\n",
       "      <td>0</td>\n",
       "    </tr>\n",
       "  </tbody>\n",
       "</table>\n",
       "</div>"
      ],
      "text/plain": [
       "   math score  reading score  writing score  AVG_SCORE  AT_RISK\n",
       "0          72             72             74  72.666667        0\n",
       "1          69             90             88  82.333333        0\n",
       "2          90             95             93  92.666667        0\n",
       "3          47             57             44  49.333333        0\n",
       "4          76             78             75  76.333333        0"
      ]
     },
     "execution_count": 90,
     "metadata": {},
     "output_type": "execute_result"
    }
   ],
   "source": [
    "# Create new features\n",
    "# AVG_SCORE = Average of math, reading, and writing scores\n",
    "df['AVG_SCORE'] = (df['math score'] + df['reading score'] + df['writing score']) / 3\n",
    "\n",
    "# AT_RISK: 1 if AVG_SCORE < 40, else 0\n",
    "df['AT_RISK'] = (df['AVG_SCORE'] < 40).astype(int)\n",
    "\n",
    "# Display the new columns\n",
    "df[['math score', 'reading score', 'writing score', 'AVG_SCORE', 'AT_RISK']].head()"
   ]
  },
  {
   "cell_type": "code",
   "execution_count": 91,
   "id": "7bbdd303",
   "metadata": {},
   "outputs": [
    {
     "data": {
      "text/plain": [
       "AT_RISK\n",
       "0    970\n",
       "1     30\n",
       "Name: count, dtype: int64"
      ]
     },
     "execution_count": 91,
     "metadata": {},
     "output_type": "execute_result"
    }
   ],
   "source": [
    "# Check distribution of AT_RISK students\n",
    "at_risk_counts = df['AT_RISK'].value_counts()\n",
    "at_risk_counts"
   ]
  },
  {
   "cell_type": "code",
   "execution_count": 92,
   "id": "2b82d994",
   "metadata": {},
   "outputs": [
    {
     "data": {
      "text/html": [
       "<div>\n",
       "<style scoped>\n",
       "    .dataframe tbody tr th:only-of-type {\n",
       "        vertical-align: middle;\n",
       "    }\n",
       "\n",
       "    .dataframe tbody tr th {\n",
       "        vertical-align: top;\n",
       "    }\n",
       "\n",
       "    .dataframe thead th {\n",
       "        text-align: right;\n",
       "    }\n",
       "</style>\n",
       "<table border=\"1\" class=\"dataframe\">\n",
       "  <thead>\n",
       "    <tr style=\"text-align: right;\">\n",
       "      <th></th>\n",
       "      <th>gender</th>\n",
       "      <th>gender_encoded</th>\n",
       "      <th>parental level of education</th>\n",
       "      <th>parental level of education_encoded</th>\n",
       "    </tr>\n",
       "  </thead>\n",
       "  <tbody>\n",
       "    <tr>\n",
       "      <th>0</th>\n",
       "      <td>female</td>\n",
       "      <td>0</td>\n",
       "      <td>bachelor's degree</td>\n",
       "      <td>1</td>\n",
       "    </tr>\n",
       "    <tr>\n",
       "      <th>1</th>\n",
       "      <td>female</td>\n",
       "      <td>0</td>\n",
       "      <td>some college</td>\n",
       "      <td>4</td>\n",
       "    </tr>\n",
       "    <tr>\n",
       "      <th>2</th>\n",
       "      <td>female</td>\n",
       "      <td>0</td>\n",
       "      <td>master's degree</td>\n",
       "      <td>3</td>\n",
       "    </tr>\n",
       "    <tr>\n",
       "      <th>3</th>\n",
       "      <td>male</td>\n",
       "      <td>1</td>\n",
       "      <td>associate's degree</td>\n",
       "      <td>0</td>\n",
       "    </tr>\n",
       "    <tr>\n",
       "      <th>4</th>\n",
       "      <td>male</td>\n",
       "      <td>1</td>\n",
       "      <td>some college</td>\n",
       "      <td>4</td>\n",
       "    </tr>\n",
       "  </tbody>\n",
       "</table>\n",
       "</div>"
      ],
      "text/plain": [
       "   gender  gender_encoded parental level of education  \\\n",
       "0  female               0           bachelor's degree   \n",
       "1  female               0                some college   \n",
       "2  female               0             master's degree   \n",
       "3    male               1          associate's degree   \n",
       "4    male               1                some college   \n",
       "\n",
       "   parental level of education_encoded  \n",
       "0                                    1  \n",
       "1                                    4  \n",
       "2                                    3  \n",
       "3                                    0  \n",
       "4                                    4  "
      ]
     },
     "execution_count": 92,
     "metadata": {},
     "output_type": "execute_result"
    }
   ],
   "source": [
    "# Create a copy for processing\n",
    "df_processed = df.copy()\n",
    "\n",
    "# Initialize label encoders\n",
    "label_encoders = {}\n",
    "categorical_cols = ['gender', 'race/ethnicity', 'parental level of education', 'lunch', 'test preparation course']\n",
    "\n",
    "# Encode categorical variables\n",
    "for col in categorical_cols:\n",
    "    le = LabelEncoder()\n",
    "    df_processed[col + '_encoded'] = le.fit_transform(df_processed[col])\n",
    "    label_encoders[col] = le\n",
    "    \n",
    "# Display encoded columns\n",
    "df_processed[['gender', 'gender_encoded', 'parental level of education', 'parental level of education_encoded']].head()"
   ]
  },
  {
   "cell_type": "markdown",
   "id": "0d355aba",
   "metadata": {},
   "source": [
    "## 2.1 Exploratory Data Analysis"
   ]
  },
  {
   "cell_type": "code",
   "execution_count": 93,
   "id": "5a87986d",
   "metadata": {},
   "outputs": [
    {
     "data": {
      "image/png": "[encoded data removed]",
      "text/plain": [
       "<Figure size 1500x1000 with 4 Axes>"
      ]
     },
     "metadata": {},
     "output_type": "display_data"
    }
   ],
   "source": [
    "# Plot score distributions\n",
    "fig, axes = plt.subplots(2, 2, figsize=(15, 10))\n",
    "\n",
    "# Individual scores\n",
    "axes[0,0].hist(df['math score'], bins=20, alpha=0.7, color='blue')\n",
    "axes[0,0].set_title('Math Score Distribution')\n",
    "axes[0,0].set_xlabel('Score')\n",
    "\n",
    "axes[0,1].hist(df['reading score'], bins=20, alpha=0.7, color='green')\n",
    "axes[0,1].set_title('Reading Score Distribution')\n",
    "axes[0,1].set_xlabel('Score')\n",
    "\n",
    "axes[1,0].hist(df['writing score'], bins=20, alpha=0.7, color='red')\n",
    "axes[1,0].set_title('Writing Score Distribution')\n",
    "axes[1,0].set_xlabel('Score')\n",
    "\n",
    "axes[1,1].hist(df['AVG_SCORE'], bins=20, alpha=0.7, color='purple')\n",
    "axes[1,1].set_title('Average Score Distribution')\n",
    "axes[1,1].set_xlabel('Score')\n",
    "\n",
    "plt.tight_layout()\n",
    "plt.show()"
   ]
  },
  {
   "cell_type": "code",
   "execution_count": 94,
   "id": "3b619e74",
   "metadata": {},
   "outputs": [
    {
     "data": {
      "image/png": "[encoded data removed]",
      "text/plain": [
       "<Figure size 800x600 with 1 Axes>"
      ]
     },
     "metadata": {},
     "output_type": "display_data"
    },
    {
     "name": "stdout",
     "output_type": "stream",
     "text": [
      "Total students: 1000\n",
      "Students not at risk: 970 (97.0%)\n",
      "Students at risk: 30 (3.0%)\n"
     ]
    }
   ],
   "source": [
    "# AT_RISK distribution\n",
    "plt.figure(figsize=(8, 6))\n",
    "at_risk_counts.plot(kind='bar', color=['green', 'red'])\n",
    "plt.title('Distribution of AT_RISK Students')\n",
    "plt.xlabel('AT_RISK Status (0: Not At Risk, 1: At Risk)')\n",
    "plt.ylabel('Count')\n",
    "plt.xticks(rotation=0)\n",
    "plt.show()\n",
    "\n",
    "# Calculate percentages\n",
    "total_students = len(df)\n",
    "print(f\"Total students: {total_students}\")\n",
    "print(f\"Students not at risk: {at_risk_counts[0]} ({at_risk_counts[0]/total_students*100:.1f}%)\")\n",
    "print(f\"Students at risk: {at_risk_counts[1]} ({at_risk_counts[1]/total_students*100:.1f}%)\")"
   ]
  },
  {
   "cell_type": "markdown",
   "id": "70ad3863",
   "metadata": {},
   "source": [
    "## 3. Model Building"
   ]
  },
  {
   "cell_type": "code",
   "execution_count": 95,
   "id": "421649e6",
   "metadata": {},
   "outputs": [
    {
     "data": {
      "text/plain": [
       "(1000, 8)"
      ]
     },
     "execution_count": 95,
     "metadata": {},
     "output_type": "execute_result"
    }
   ],
   "source": [
    "# Prepare features for modeling\n",
    "# Use encoded categorical variables and original scores\n",
    "feature_cols = ['gender_encoded', 'race/ethnicity_encoded', 'parental level of education_encoded', \n",
    "                'lunch_encoded', 'test preparation course_encoded', 'math score', 'reading score', 'writing score']\n",
    "\n",
    "X = df_processed[feature_cols]\n",
    "y = df_processed['AT_RISK']\n",
    "\n",
    "# Display feature matrix shape\n",
    "X.shape"
   ]
  },
  {
   "cell_type": "code",
   "execution_count": 96,
   "id": "c69a007b",
   "metadata": {},
   "outputs": [
    {
     "name": "stdout",
     "output_type": "stream",
     "text": [
      "Training set size: 800\n",
      "Testing set size: 200\n",
      "Training set AT_RISK distribution: [776  24]\n",
      "Testing set AT_RISK distribution: [194   6]\n"
     ]
    }
   ],
   "source": [
    "# Split the data into training and testing sets\n",
    "X_train, X_test, y_train, y_test = train_test_split(X, y, test_size=0.2, random_state=42, stratify=y)\n",
    "\n",
    "print(f\"Training set size: {X_train.shape[0]}\")\n",
    "print(f\"Testing set size: {X_test.shape[0]}\")\n",
    "print(f\"Training set AT_RISK distribution: {y_train.value_counts().values}\")\n",
    "print(f\"Testing set AT_RISK distribution: {y_test.value_counts().values}\")"
   ]
  },
  {
   "cell_type": "code",
   "execution_count": 97,
   "id": "149b0c9b",
   "metadata": {},
   "outputs": [
    {
     "name": "stdout",
     "output_type": "stream",
     "text": [
      "Logistic Regression Accuracy: 1.0000\n"
     ]
    }
   ],
   "source": [
    "# Train Logistic Regression model\n",
    "lr_model = LogisticRegression(random_state=42, max_iter=1000)\n",
    "lr_model.fit(X_train, y_train)\n",
    "\n",
    "# Make predictions\n",
    "lr_pred = lr_model.predict(X_test)\n",
    "lr_accuracy = accuracy_score(y_test, lr_pred)\n",
    "\n",
    "print(f\"Logistic Regression Accuracy: {lr_accuracy:.4f}\")"
   ]
  },
  {
   "cell_type": "code",
   "execution_count": 98,
   "id": "11182ed9",
   "metadata": {},
   "outputs": [
    {
     "name": "stdout",
     "output_type": "stream",
     "text": [
      "Random Forest Accuracy: 1.0000\n"
     ]
    }
   ],
   "source": [
    "# Train Random Forest model\n",
    "rf_model = RandomForestClassifier(n_estimators=100, random_state=42)\n",
    "rf_model.fit(X_train, y_train)\n",
    "\n",
    "# Make predictions\n",
    "rf_pred = rf_model.predict(X_test)\n",
    "rf_accuracy = accuracy_score(y_test, rf_pred)\n",
    "\n",
    "print(f\"Random Forest Accuracy: {rf_accuracy:.4f}\")"
   ]
  },
  {
   "cell_type": "markdown",
   "id": "165f4e2b",
   "metadata": {},
   "source": [
    "## 4. Model Evaluation"
   ]
  },
  {
   "cell_type": "code",
   "execution_count": 99,
   "id": "9e19542f",
   "metadata": {},
   "outputs": [
    {
     "data": {
      "text/html": [
       "<div>\n",
       "<style scoped>\n",
       "    .dataframe tbody tr th:only-of-type {\n",
       "        vertical-align: middle;\n",
       "    }\n",
       "\n",
       "    .dataframe tbody tr th {\n",
       "        vertical-align: top;\n",
       "    }\n",
       "\n",
       "    .dataframe thead th {\n",
       "        text-align: right;\n",
       "    }\n",
       "</style>\n",
       "<table border=\"1\" class=\"dataframe\">\n",
       "  <thead>\n",
       "    <tr style=\"text-align: right;\">\n",
       "      <th></th>\n",
       "      <th>Model</th>\n",
       "      <th>Accuracy</th>\n",
       "    </tr>\n",
       "  </thead>\n",
       "  <tbody>\n",
       "    <tr>\n",
       "      <th>0</th>\n",
       "      <td>Logistic Regression</td>\n",
       "      <td>1.0</td>\n",
       "    </tr>\n",
       "    <tr>\n",
       "      <th>1</th>\n",
       "      <td>Random Forest</td>\n",
       "      <td>1.0</td>\n",
       "    </tr>\n",
       "  </tbody>\n",
       "</table>\n",
       "</div>"
      ],
      "text/plain": [
       "                 Model  Accuracy\n",
       "0  Logistic Regression       1.0\n",
       "1        Random Forest       1.0"
      ]
     },
     "execution_count": 99,
     "metadata": {},
     "output_type": "execute_result"
    }
   ],
   "source": [
    "# Compare model accuracies\n",
    "model_comparison = pd.DataFrame({\n",
    "    'Model': ['Logistic Regression', 'Random Forest'],\n",
    "    'Accuracy': [lr_accuracy, rf_accuracy]\n",
    "})\n",
    "\n",
    "model_comparison"
   ]
  },
  {
   "cell_type": "code",
   "execution_count": 100,
   "id": "fec7a5d7",
   "metadata": {},
   "outputs": [
    {
     "data": {
      "image/png": "[encoded data removed]",
      "text/plain": [
       "<Figure size 1200x500 with 4 Axes>"
      ]
     },
     "metadata": {},
     "output_type": "display_data"
    }
   ],
   "source": [
    "# Confusion matrices\n",
    "fig, axes = plt.subplots(1, 2, figsize=(12, 5))\n",
    "\n",
    "# Logistic Regression confusion matrix\n",
    "cm_lr = confusion_matrix(y_test, lr_pred)\n",
    "disp_lr = ConfusionMatrixDisplay(confusion_matrix=cm_lr, display_labels=['Not At Risk', 'At Risk'])\n",
    "disp_lr.plot(ax=axes[0], cmap='Blues')\n",
    "axes[0].set_title('Logistic Regression Confusion Matrix')\n",
    "\n",
    "# Random Forest confusion matrix\n",
    "cm_rf = confusion_matrix(y_test, rf_pred)\n",
    "disp_rf = ConfusionMatrixDisplay(confusion_matrix=cm_rf, display_labels=['Not At Risk', 'At Risk'])\n",
    "disp_rf.plot(ax=axes[1], cmap='Greens')\n",
    "axes[1].set_title('Random Forest Confusion Matrix')\n",
    "\n",
    "plt.tight_layout()\n",
    "plt.show()"
   ]
  },
  {
   "cell_type": "code",
   "execution_count": 101,
   "id": "055888d9",
   "metadata": {},
   "outputs": [
    {
     "name": "stdout",
     "output_type": "stream",
     "text": [
      "Logistic Regression Classification Report:\n",
      "              precision    recall  f1-score   support\n",
      "\n",
      " Not At Risk       1.00      1.00      1.00       194\n",
      "     At Risk       1.00      1.00      1.00         6\n",
      "\n",
      "    accuracy                           1.00       200\n",
      "   macro avg       1.00      1.00      1.00       200\n",
      "weighted avg       1.00      1.00      1.00       200\n",
      "\n",
      "\n",
      "Random Forest Classification Report:\n",
      "              precision    recall  f1-score   support\n",
      "\n",
      " Not At Risk       1.00      1.00      1.00       194\n",
      "     At Risk       1.00      1.00      1.00         6\n",
      "\n",
      "    accuracy                           1.00       200\n",
      "   macro avg       1.00      1.00      1.00       200\n",
      "weighted avg       1.00      1.00      1.00       200\n",
      "\n"
     ]
    }
   ],
   "source": [
    "# Classification reports\n",
    "print(\"Logistic Regression Classification Report:\")\n",
    "print(classification_report(y_test, lr_pred, target_names=['Not At Risk', 'At Risk']))\n",
    "\n",
    "print(\"\\nRandom Forest Classification Report:\")\n",
    "print(classification_report(y_test, rf_pred, target_names=['Not At Risk', 'At Risk']))"
   ]
  },
  {
   "cell_type": "code",
   "execution_count": 102,
   "id": "b8469fb2",
   "metadata": {},
   "outputs": [
    {
     "data": {
      "image/png": "[encoded data removed]",
      "text/plain": [
       "<Figure size 1000x600 with 1 Axes>"
      ]
     },
     "metadata": {},
     "output_type": "display_data"
    },
    {
     "data": {
      "text/html": [
       "<div>\n",
       "<style scoped>\n",
       "    .dataframe tbody tr th:only-of-type {\n",
       "        vertical-align: middle;\n",
       "    }\n",
       "\n",
       "    .dataframe tbody tr th {\n",
       "        vertical-align: top;\n",
       "    }\n",
       "\n",
       "    .dataframe thead th {\n",
       "        text-align: right;\n",
       "    }\n",
       "</style>\n",
       "<table border=\"1\" class=\"dataframe\">\n",
       "  <thead>\n",
       "    <tr style=\"text-align: right;\">\n",
       "      <th></th>\n",
       "      <th>feature</th>\n",
       "      <th>importance</th>\n",
       "    </tr>\n",
       "  </thead>\n",
       "  <tbody>\n",
       "    <tr>\n",
       "      <th>7</th>\n",
       "      <td>writing score</td>\n",
       "      <td>0.352346</td>\n",
       "    </tr>\n",
       "    <tr>\n",
       "      <th>5</th>\n",
       "      <td>math score</td>\n",
       "      <td>0.325992</td>\n",
       "    </tr>\n",
       "    <tr>\n",
       "      <th>6</th>\n",
       "      <td>reading score</td>\n",
       "      <td>0.267766</td>\n",
       "    </tr>\n",
       "    <tr>\n",
       "      <th>0</th>\n",
       "      <td>gender_encoded</td>\n",
       "      <td>0.013044</td>\n",
       "    </tr>\n",
       "    <tr>\n",
       "      <th>3</th>\n",
       "      <td>lunch_encoded</td>\n",
       "      <td>0.011348</td>\n",
       "    </tr>\n",
       "    <tr>\n",
       "      <th>2</th>\n",
       "      <td>parental level of education_encoded</td>\n",
       "      <td>0.010563</td>\n",
       "    </tr>\n",
       "    <tr>\n",
       "      <th>4</th>\n",
       "      <td>test preparation course_encoded</td>\n",
       "      <td>0.010073</td>\n",
       "    </tr>\n",
       "    <tr>\n",
       "      <th>1</th>\n",
       "      <td>race/ethnicity_encoded</td>\n",
       "      <td>0.008868</td>\n",
       "    </tr>\n",
       "  </tbody>\n",
       "</table>\n",
       "</div>"
      ],
      "text/plain": [
       "                               feature  importance\n",
       "7                        writing score    0.352346\n",
       "5                           math score    0.325992\n",
       "6                        reading score    0.267766\n",
       "0                       gender_encoded    0.013044\n",
       "3                        lunch_encoded    0.011348\n",
       "2  parental level of education_encoded    0.010563\n",
       "4      test preparation course_encoded    0.010073\n",
       "1               race/ethnicity_encoded    0.008868"
      ]
     },
     "execution_count": 102,
     "metadata": {},
     "output_type": "execute_result"
    }
   ],
   "source": [
    "# Feature importance from Random Forest\n",
    "feature_importance = pd.DataFrame({\n",
    "    'feature': feature_cols,\n",
    "    'importance': rf_model.feature_importances_\n",
    "}).sort_values('importance', ascending=False)\n",
    "\n",
    "# Plot feature importance\n",
    "plt.figure(figsize=(10, 6))\n",
    "plt.barh(range(len(feature_importance)), feature_importance['importance'])\n",
    "plt.yticks(range(len(feature_importance)), feature_importance['feature'])\n",
    "plt.xlabel('Feature Importance')\n",
    "plt.title('Random Forest Feature Importance')\n",
    "plt.gca().invert_yaxis()\n",
    "plt.tight_layout()\n",
    "plt.show()\n",
    "\n",
    "feature_importance"
   ]
  },
  {
   "cell_type": "code",
   "execution_count": 103,
   "id": "05bee64e",
   "metadata": {},
   "outputs": [
    {
     "data": {
      "text/html": [
       "<div>\n",
       "<style scoped>\n",
       "    .dataframe tbody tr th:only-of-type {\n",
       "        vertical-align: middle;\n",
       "    }\n",
       "\n",
       "    .dataframe tbody tr th {\n",
       "        vertical-align: top;\n",
       "    }\n",
       "\n",
       "    .dataframe thead th {\n",
       "        text-align: right;\n",
       "    }\n",
       "</style>\n",
       "<table border=\"1\" class=\"dataframe\">\n",
       "  <thead>\n",
       "    <tr style=\"text-align: right;\">\n",
       "      <th></th>\n",
       "      <th>readable_feature</th>\n",
       "      <th>importance</th>\n",
       "    </tr>\n",
       "  </thead>\n",
       "  <tbody>\n",
       "    <tr>\n",
       "      <th>7</th>\n",
       "      <td>Writing Score</td>\n",
       "      <td>0.352346</td>\n",
       "    </tr>\n",
       "    <tr>\n",
       "      <th>5</th>\n",
       "      <td>Math Score</td>\n",
       "      <td>0.325992</td>\n",
       "    </tr>\n",
       "    <tr>\n",
       "      <th>6</th>\n",
       "      <td>Reading Score</td>\n",
       "      <td>0.267766</td>\n",
       "    </tr>\n",
       "  </tbody>\n",
       "</table>\n",
       "</div>"
      ],
      "text/plain": [
       "  readable_feature  importance\n",
       "7    Writing Score    0.352346\n",
       "5       Math Score    0.325992\n",
       "6    Reading Score    0.267766"
      ]
     },
     "execution_count": 103,
     "metadata": {},
     "output_type": "execute_result"
    }
   ],
   "source": [
    "# Create readable feature names for interpretation\n",
    "readable_features = {\n",
    "    'gender_encoded': 'Gender',\n",
    "    'race/ethnicity_encoded': 'Race/Ethnicity',\n",
    "    'parental level of education_encoded': 'Parental Education Level',\n",
    "    'lunch_encoded': 'Lunch Type',\n",
    "    'test preparation course_encoded': 'Test Prep Course',\n",
    "    'math score': 'Math Score',\n",
    "    'reading score': 'Reading Score', \n",
    "    'writing score': 'Writing Score'\n",
    "}\n",
    "\n",
    "# Update feature importance with readable names\n",
    "feature_importance['readable_feature'] = feature_importance['feature'].map(readable_features)\n",
    "top_3_features = feature_importance.head(3)\n",
    "\n",
    "top_3_features[['readable_feature', 'importance']]"
   ]
  },
  {
   "cell_type": "markdown",
   "id": "aa2a3de8",
   "metadata": {},
   "source": [
    "## 5. Interpretation and Ethics"
   ]
  },
  {
   "cell_type": "code",
   "execution_count": 104,
   "id": "f6b2827b",
   "metadata": {},
   "outputs": [
    {
     "name": "stdout",
     "output_type": "stream",
     "text": [
      "Gender importance: 0.0130\n",
      "Parental education importance: 0.0106\n",
      "\n",
      "Gender ranking: 1 out of 8\n",
      "Parental education ranking: 3 out of 8\n"
     ]
    }
   ],
   "source": [
    "# Analyze impact of potentially sensitive features\n",
    "gender_importance = feature_importance[feature_importance['feature'] == 'gender_encoded']['importance'].values[0]\n",
    "parental_ed_importance = feature_importance[feature_importance['feature'] == 'parental level of education_encoded']['importance'].values[0]\n",
    "\n",
    "print(f\"Gender importance: {gender_importance:.4f}\")\n",
    "print(f\"Parental education importance: {parental_ed_importance:.4f}\")\n",
    "\n",
    "# Check if these are among top predictors\n",
    "gender_rank = feature_importance[feature_importance['feature'] == 'gender_encoded'].index[0] + 1\n",
    "parental_ed_rank = feature_importance[feature_importance['feature'] == 'parental level of education_encoded'].index[0] + 1\n",
    "\n",
    "print(f\"\\nGender ranking: {gender_rank} out of {len(feature_importance)}\")\n",
    "print(f\"Parental education ranking: {parental_ed_rank} out of {len(feature_importance)}\")"
   ]
  },
  {
   "cell_type": "code",
   "execution_count": 105,
   "id": "d2e1b68f",
   "metadata": {},
   "outputs": [
    {
     "data": {
      "text/html": [
       "<div>\n",
       "<style scoped>\n",
       "    .dataframe tbody tr th:only-of-type {\n",
       "        vertical-align: middle;\n",
       "    }\n",
       "\n",
       "    .dataframe tbody tr th {\n",
       "        vertical-align: top;\n",
       "    }\n",
       "\n",
       "    .dataframe thead th {\n",
       "        text-align: right;\n",
       "    }\n",
       "</style>\n",
       "<table border=\"1\" class=\"dataframe\">\n",
       "  <thead>\n",
       "    <tr style=\"text-align: right;\">\n",
       "      <th></th>\n",
       "      <th></th>\n",
       "      <th>Total_Students</th>\n",
       "      <th>At_Risk_Count</th>\n",
       "      <th>At_Risk_Rate</th>\n",
       "    </tr>\n",
       "    <tr>\n",
       "      <th>gender</th>\n",
       "      <th>parental level of education</th>\n",
       "      <th></th>\n",
       "      <th></th>\n",
       "      <th></th>\n",
       "    </tr>\n",
       "  </thead>\n",
       "  <tbody>\n",
       "    <tr>\n",
       "      <th rowspan=\"6\" valign=\"top\">female</th>\n",
       "      <th>associate's degree</th>\n",
       "      <td>116</td>\n",
       "      <td>1</td>\n",
       "      <td>0.009</td>\n",
       "    </tr>\n",
       "    <tr>\n",
       "      <th>bachelor's degree</th>\n",
       "      <td>63</td>\n",
       "      <td>1</td>\n",
       "      <td>0.016</td>\n",
       "    </tr>\n",
       "    <tr>\n",
       "      <th>high school</th>\n",
       "      <td>94</td>\n",
       "      <td>5</td>\n",
       "      <td>0.053</td>\n",
       "    </tr>\n",
       "    <tr>\n",
       "      <th>master's degree</th>\n",
       "      <td>36</td>\n",
       "      <td>0</td>\n",
       "      <td>0.000</td>\n",
       "    </tr>\n",
       "    <tr>\n",
       "      <th>some college</th>\n",
       "      <td>118</td>\n",
       "      <td>3</td>\n",
       "      <td>0.025</td>\n",
       "    </tr>\n",
       "    <tr>\n",
       "      <th>some high school</th>\n",
       "      <td>91</td>\n",
       "      <td>6</td>\n",
       "      <td>0.066</td>\n",
       "    </tr>\n",
       "    <tr>\n",
       "      <th rowspan=\"6\" valign=\"top\">male</th>\n",
       "      <th>associate's degree</th>\n",
       "      <td>106</td>\n",
       "      <td>1</td>\n",
       "      <td>0.009</td>\n",
       "    </tr>\n",
       "    <tr>\n",
       "      <th>bachelor's degree</th>\n",
       "      <td>55</td>\n",
       "      <td>1</td>\n",
       "      <td>0.018</td>\n",
       "    </tr>\n",
       "    <tr>\n",
       "      <th>high school</th>\n",
       "      <td>102</td>\n",
       "      <td>5</td>\n",
       "      <td>0.049</td>\n",
       "    </tr>\n",
       "    <tr>\n",
       "      <th>master's degree</th>\n",
       "      <td>23</td>\n",
       "      <td>0</td>\n",
       "      <td>0.000</td>\n",
       "    </tr>\n",
       "    <tr>\n",
       "      <th>some college</th>\n",
       "      <td>108</td>\n",
       "      <td>3</td>\n",
       "      <td>0.028</td>\n",
       "    </tr>\n",
       "    <tr>\n",
       "      <th>some high school</th>\n",
       "      <td>88</td>\n",
       "      <td>4</td>\n",
       "      <td>0.045</td>\n",
       "    </tr>\n",
       "  </tbody>\n",
       "</table>\n",
       "</div>"
      ],
      "text/plain": [
       "                                    Total_Students  At_Risk_Count  \\\n",
       "gender parental level of education                                  \n",
       "female associate's degree                      116              1   \n",
       "       bachelor's degree                        63              1   \n",
       "       high school                              94              5   \n",
       "       master's degree                          36              0   \n",
       "       some college                            118              3   \n",
       "       some high school                         91              6   \n",
       "male   associate's degree                      106              1   \n",
       "       bachelor's degree                        55              1   \n",
       "       high school                             102              5   \n",
       "       master's degree                          23              0   \n",
       "       some college                            108              3   \n",
       "       some high school                         88              4   \n",
       "\n",
       "                                    At_Risk_Rate  \n",
       "gender parental level of education                \n",
       "female associate's degree                  0.009  \n",
       "       bachelor's degree                   0.016  \n",
       "       high school                         0.053  \n",
       "       master's degree                     0.000  \n",
       "       some college                        0.025  \n",
       "       some high school                    0.066  \n",
       "male   associate's degree                  0.009  \n",
       "       bachelor's degree                   0.018  \n",
       "       high school                         0.049  \n",
       "       master's degree                     0.000  \n",
       "       some college                        0.028  \n",
       "       some high school                    0.045  "
      ]
     },
     "execution_count": 105,
     "metadata": {},
     "output_type": "execute_result"
    }
   ],
   "source": [
    "# Explore demographic patterns\n",
    "demographic_analysis = df.groupby(['gender', 'parental level of education'])['AT_RISK'].agg(['count', 'sum', 'mean']).round(3)\n",
    "demographic_analysis.columns = ['Total_Students', 'At_Risk_Count', 'At_Risk_Rate']\n",
    "demographic_analysis"
   ]
  },
  {
   "cell_type": "markdown",
   "id": "f0b33726",
   "metadata": {},
   "source": [
    "### Question 1: How many students passed, failed, or dropped out?"
   ]
  },
  {
   "cell_type": "code",
   "execution_count": 106,
   "id": "e2e1e260",
   "metadata": {},
   "outputs": [
    {
     "name": "stdout",
     "output_type": "stream",
     "text": [
      "Students performing well: 970 (97.0%)\n",
      "Students at risk: 30 (3.0%)\n"
     ]
    }
   ],
   "source": [
    "student_performance = df['AT_RISK'].value_counts()\n",
    "total = len(df)\n",
    "\n",
    "print(f\"Students performing well: {student_performance[0]} ({student_performance[0]/total*100:.1f}%)\")\n",
    "print(f\"Students at risk: {student_performance[1]} ({student_performance[1]/total*100:.1f}%)\")"
   ]
  },
  {
   "cell_type": "markdown",
   "id": "9ccbc851",
   "metadata": {},
   "source": [
    "### Question 2: Which model performs better on accuracy?"
   ]
  },
  {
   "cell_type": "code",
   "execution_count": 107,
   "id": "85f1d6aa",
   "metadata": {},
   "outputs": [
    {
     "name": "stdout",
     "output_type": "stream",
     "text": [
      "Logistic Regression Accuracy: 1.0000\n",
      "Random Forest Accuracy: 1.0000\n"
     ]
    }
   ],
   "source": [
    "print(f\"Logistic Regression Accuracy: {lr_accuracy:.4f}\")\n",
    "print(f\"Random Forest Accuracy: {rf_accuracy:.4f}\")"
   ]
  },
  {
   "cell_type": "markdown",
   "id": "408ed8d1",
   "metadata": {},
   "source": [
    "### Question 3: Which 3 features most influence success?"
   ]
  },
  {
   "cell_type": "code",
   "execution_count": 108,
   "id": "5a08f593",
   "metadata": {},
   "outputs": [
    {
     "name": "stdout",
     "output_type": "stream",
     "text": [
      "1. Writing Score: 0.3523\n",
      "2. Math Score: 0.3260\n",
      "3. Reading Score: 0.2678\n"
     ]
    }
   ],
   "source": [
    "for i, (_, row) in enumerate(top_3_features.iterrows(), 1):\n",
    "    print(f\"{i}. {row['readable_feature']}: {row['importance']:.4f}\")"
   ]
  },
  {
   "cell_type": "markdown",
   "id": "08af1bac",
   "metadata": {},
   "source": [
    "### Question 4: What features most influenced the student's predicted outcome?"
   ]
  },
  {
   "cell_type": "code",
   "execution_count": 109,
   "id": "39149b20",
   "metadata": {},
   "outputs": [
    {
     "name": "stdout",
     "output_type": "stream",
     "text": [
      "1. Writing Score: 0.3523\n",
      "2. Math Score: 0.3260\n",
      "3. Reading Score: 0.2678\n",
      "4. Gender: 0.0130\n",
      "5. Lunch Type: 0.0113\n",
      "6. Parental Education Level: 0.0106\n",
      "7. Test Prep Course: 0.0101\n",
      "8. Race/Ethnicity: 0.0089\n"
     ]
    }
   ],
   "source": [
    "for i, (_, row) in enumerate(feature_importance.iterrows(), 1):\n",
    "    print(f\"{i}. {row['readable_feature']}: {row['importance']:.4f}\")"
   ]
  },
  {
   "cell_type": "markdown",
   "id": "60b01dec",
   "metadata": {},
   "source": [
    "### Question 5: Should Gender or Parental Education Be Used in Decisions?\n",
    "\n",
    "- Gender accounts for only 1.30% of the model's decision-making\n",
    "- Parental education accounts for only 1.06% \n",
    "- Combined, they represent less than 2.4% of the total influence\n",
    "- Academic scores (Writing, Math, Reading) account for 94.61% of predictions\n"
   ]
  },
  {
   "cell_type": "markdown",
   "id": "d146b541",
   "metadata": {},
   "source": [
    "### Question 6: Propose one way this model could help support struggling students"
   ]
  },
  {
   "cell_type": "code",
   "execution_count": 110,
   "id": "f651005a",
   "metadata": {},
   "outputs": [
    {
     "data": {
      "text/html": [
       "<div>\n",
       "<style scoped>\n",
       "    .dataframe tbody tr th:only-of-type {\n",
       "        vertical-align: middle;\n",
       "    }\n",
       "\n",
       "    .dataframe tbody tr th {\n",
       "        vertical-align: top;\n",
       "    }\n",
       "\n",
       "    .dataframe thead th {\n",
       "        text-align: right;\n",
       "    }\n",
       "</style>\n",
       "<table border=\"1\" class=\"dataframe\">\n",
       "  <thead>\n",
       "    <tr style=\"text-align: right;\">\n",
       "      <th></th>\n",
       "      <th>Count</th>\n",
       "      <th>Avg_Score</th>\n",
       "    </tr>\n",
       "    <tr>\n",
       "      <th>test preparation course</th>\n",
       "      <th></th>\n",
       "      <th></th>\n",
       "    </tr>\n",
       "  </thead>\n",
       "  <tbody>\n",
       "    <tr>\n",
       "      <th>completed</th>\n",
       "      <td>3</td>\n",
       "      <td>37.22</td>\n",
       "    </tr>\n",
       "    <tr>\n",
       "      <th>none</th>\n",
       "      <td>27</td>\n",
       "      <td>31.78</td>\n",
       "    </tr>\n",
       "  </tbody>\n",
       "</table>\n",
       "</div>"
      ],
      "text/plain": [
       "                         Count  Avg_Score\n",
       "test preparation course                  \n",
       "completed                    3      37.22\n",
       "none                        27      31.78"
      ]
     },
     "execution_count": 110,
     "metadata": {},
     "output_type": "execute_result"
    }
   ],
   "source": [
    "students_needing_support = df[df['AT_RISK'] == 1]\n",
    "\n",
    "intervention_analysis = students_needing_support.groupby('test preparation course')['AVG_SCORE'].agg(['count', 'mean']).round(2)\n",
    "intervention_analysis.columns = ['Count', 'Avg_Score']\n",
    "\n",
    "intervention_analysis"
   ]
  }
 ],
 "metadata": {
  "kernelspec": {
   "display_name": "Python 3",
   "language": "python",
   "name": "python3"
  },
  "language_info": {
   "codemirror_mode": {
    "name": "ipython",
    "version": 3
   },
   "file_extension": ".py",
   "mimetype": "text/x-python",
   "name": "python",
   "nbconvert_exporter": "python",
   "pygments_lexer": "ipython3",
   "version": "3.13.7"
  }
 },
 "nbformat": 4,
 "nbformat_minor": 5
}
