{
 "cells": [
  {
   "cell_type": "markdown",
   "id": "816dcc96",
   "metadata": {},
   "source": [
    "# Simple Neural Network Logic Gates Implementation\n",
    "\n",
    "This notebook demonstrates how single-layer neural networks (perceptrons) can replicate basic logic gates (AND, OR, NOT) without hidden layers."
   ]
  },
  {
   "cell_type": "code",
   "execution_count": 12,
   "id": "b081af8f",
   "metadata": {},
   "outputs": [],
   "source": [
    "import numpy as np\n",
    "import matplotlib.pyplot as plt\n",
    "import tensorflow as tf\n",
    "from tensorflow import keras\n",
    "from tensorflow.keras import layers"
   ]
  },
  {
   "cell_type": "markdown",
   "id": "c0e64bc7",
   "metadata": {},
   "source": [
    "## AND Gate Implementation\n",
    "\n",
    "**Structure**: 2 inputs → 1 output (NO hidden layer)\n",
    "- **Neurons**: 1 output neuron\n",
    "- **Activation**: Sigmoid \n",
    "- **Theory**: For AND gate, both inputs must be 1 to produce output 1\n",
    "- **Initial weights**: [0.5, 0.5] - equal contribution from both inputs\n",
    "- **Initial bias**: -0.7 - ensures output is 0 unless both inputs are high"
   ]
  },
  {
   "cell_type": "code",
   "execution_count": 13,
   "id": "805e2d3f",
   "metadata": {},
   "outputs": [
    {
     "name": "stdout",
     "output_type": "stream",
     "text": [
      "Initial AND Gate Results (before training):\n"
     ]
    },
    {
     "data": {
      "text/plain": [
       "array([[0., 0., 0., 0.],\n",
       "       [0., 1., 0., 0.],\n",
       "       [1., 0., 0., 0.],\n",
       "       [1., 1., 1., 1.]])"
      ]
     },
     "execution_count": 13,
     "metadata": {},
     "output_type": "execute_result"
    }
   ],
   "source": [
    "X_and = np.array([[0, 0], [0, 1], [1, 0], [1, 1]], dtype=np.float32)\n",
    "y_and = np.array([[0], [0], [0], [1]], dtype=np.float32)\n",
    "\n",
    "and_model = keras.Sequential([\n",
    "    layers.Dense(1, input_shape=(2,), activation='sigmoid', use_bias=True)\n",
    "])\n",
    "\n",
    "and_model.layers[0].set_weights([np.array([[0.5], [0.5]]), np.array([-0.7])])\n",
    "\n",
    "and_model.compile(optimizer='adam', loss='binary_crossentropy', metrics=['accuracy'])\n",
    "\n",
    "initial_predictions = and_model.predict(X_and, verbose=0)\n",
    "initial_binary = (initial_predictions > 0.5).astype(int)\n",
    "\n",
    "print(\"Initial AND Gate Results (before training):\")\n",
    "np.column_stack((X_and, y_and, initial_binary))"
   ]
  },
  {
   "cell_type": "markdown",
   "id": "d30a2942",
   "metadata": {},
   "source": [
    "## OR Gate Implementation\n",
    "\n",
    "**Structure**: 2 inputs → 1 output (NO hidden layer)\n",
    "- **Neurons**: 1 output neuron\n",
    "- **Activation**: Sigmoid\n",
    "- **Theory**: For OR gate, at least one input must be 1 to produce output 1\n",
    "- **Initial weights**: [0.6, 0.6] - strong contribution from either input\n",
    "- **Initial bias**: -0.3 - lower threshold, easier to activate"
   ]
  },
  {
   "cell_type": "code",
   "execution_count": 14,
   "id": "0157b24b",
   "metadata": {},
   "outputs": [
    {
     "name": "stdout",
     "output_type": "stream",
     "text": [
      "Initial OR Gate Results (before training):\n"
     ]
    },
    {
     "data": {
      "text/plain": [
       "array([[0., 0., 0., 0.],\n",
       "       [0., 1., 1., 1.],\n",
       "       [1., 0., 1., 1.],\n",
       "       [1., 1., 1., 1.]])"
      ]
     },
     "execution_count": 14,
     "metadata": {},
     "output_type": "execute_result"
    }
   ],
   "source": [
    "X_or = np.array([[0, 0], [0, 1], [1, 0], [1, 1]], dtype=np.float32)\n",
    "y_or = np.array([[0], [1], [1], [1]], dtype=np.float32)\n",
    "\n",
    "or_model = keras.Sequential([\n",
    "    layers.Dense(1, input_shape=(2,), activation='sigmoid', use_bias=True)\n",
    "])\n",
    "\n",
    "or_model.layers[0].set_weights([np.array([[0.6], [0.6]]), np.array([-0.3])])\n",
    "\n",
    "or_model.compile(optimizer='adam', loss='binary_crossentropy', metrics=['accuracy'])\n",
    "\n",
    "initial_or_predictions = or_model.predict(X_or, verbose=0)\n",
    "initial_or_binary = (initial_or_predictions > 0.5).astype(int)\n",
    "\n",
    "print(\"Initial OR Gate Results (before training):\")\n",
    "np.column_stack((X_or, y_or, initial_or_binary))"
   ]
  },
  {
   "cell_type": "markdown",
   "id": "1914ef54",
   "metadata": {},
   "source": [
    "## NOT Gate Implementation\n",
    "\n",
    "**Structure**: 1 input → 1 output (NO hidden layer)\n",
    "- **Neurons**: 1 output neuron\n",
    "- **Activation**: Sigmoid\n",
    "- **Theory**: NOT gate inverts the input (0→1, 1→0)\n",
    "- **Initial weight**: [-1.0] - negative weight inverts the signal\n",
    "- **Initial bias**: [0.5] - shifts the decision boundary"
   ]
  },
  {
   "cell_type": "code",
   "execution_count": 15,
   "id": "c8057e84",
   "metadata": {},
   "outputs": [
    {
     "name": "stdout",
     "output_type": "stream",
     "text": [
      "Initial NOT Gate Results (before training):\n"
     ]
    },
    {
     "data": {
      "text/plain": [
       "array([[0., 1., 1.],\n",
       "       [1., 0., 0.]])"
      ]
     },
     "execution_count": 15,
     "metadata": {},
     "output_type": "execute_result"
    }
   ],
   "source": [
    "X_not = np.array([[0], [1]], dtype=np.float32)\n",
    "y_not = np.array([[1], [0]], dtype=np.float32)\n",
    "\n",
    "not_model = keras.Sequential([\n",
    "    layers.Dense(1, input_shape=(1,), activation='sigmoid', use_bias=True)\n",
    "])\n",
    "\n",
    "not_model.layers[0].set_weights([np.array([[-1.0]]), np.array([0.5])])\n",
    "\n",
    "not_model.compile(optimizer='adam', loss='binary_crossentropy', metrics=['accuracy'])\n",
    "\n",
    "initial_not_predictions = not_model.predict(X_not, verbose=0)\n",
    "initial_not_binary = (initial_not_predictions > 0.5).astype(int)\n",
    "\n",
    "print(\"Initial NOT Gate Results (before training):\")\n",
    "np.column_stack((X_not, y_not, initial_not_binary))"
   ]
  },
  {
   "cell_type": "markdown",
   "id": "3f2bc481",
   "metadata": {},
   "source": [
    "## Training Process for AND Gate\n",
    "\n",
    "**Training Process Explanation:**\n",
    "1. **Forward Pass**: Calculate output using current weights and bias\n",
    "2. **Loss Calculation**: Compare predicted output with expected output\n",
    "3. **Backpropagation**: Calculate gradients of weights and bias\n",
    "4. **Weight Update**: Adjust weights and bias using gradient descent\n",
    "5. **Repeat**: Continue until convergence"
   ]
  },
  {
   "cell_type": "code",
   "execution_count": 16,
   "id": "6668c902",
   "metadata": {},
   "outputs": [
    {
     "name": "stdout",
     "output_type": "stream",
     "text": [
      "Trained AND Gate Results:\n"
     ]
    },
    {
     "data": {
      "text/plain": [
       "array([[0., 0., 0., 0.],\n",
       "       [0., 1., 0., 0.],\n",
       "       [1., 0., 0., 0.],\n",
       "       [1., 1., 1., 1.]])"
      ]
     },
     "execution_count": 16,
     "metadata": {},
     "output_type": "execute_result"
    }
   ],
   "source": [
    "and_model_train = keras.Sequential([\n",
    "    layers.Dense(1, input_shape=(2,), activation='sigmoid', use_bias=True)\n",
    "])\n",
    "\n",
    "and_model_train.compile(optimizer=keras.optimizers.Adam(learning_rate=1.0), \n",
    "                       loss='binary_crossentropy', metrics=['accuracy'])\n",
    "\n",
    "history_and = and_model_train.fit(X_and, y_and, epochs=100, verbose=0)\n",
    "\n",
    "trained_and_predictions = and_model_train.predict(X_and, verbose=0)\n",
    "trained_and_binary = (trained_and_predictions > 0.5).astype(int)\n",
    "\n",
    "print(\"Trained AND Gate Results:\")\n",
    "result_and = np.column_stack((X_and, y_and, trained_and_binary))\n",
    "result_and"
   ]
  },
  {
   "cell_type": "code",
   "execution_count": 17,
   "id": "70cc60ea",
   "metadata": {},
   "outputs": [
    {
     "name": "stdout",
     "output_type": "stream",
     "text": [
      "Trained OR Gate Results:\n"
     ]
    },
    {
     "data": {
      "text/plain": [
       "array([[0., 0., 0., 0.],\n",
       "       [0., 1., 1., 1.],\n",
       "       [1., 0., 1., 1.],\n",
       "       [1., 1., 1., 1.]])"
      ]
     },
     "execution_count": 17,
     "metadata": {},
     "output_type": "execute_result"
    }
   ],
   "source": [
    "or_model_train = keras.Sequential([\n",
    "    layers.Dense(1, input_shape=(2,), activation='sigmoid', use_bias=True)\n",
    "])\n",
    "\n",
    "or_model_train.compile(optimizer=keras.optimizers.Adam(learning_rate=1.0), \n",
    "                      loss='binary_crossentropy', metrics=['accuracy'])\n",
    "\n",
    "history_or = or_model_train.fit(X_or, y_or, epochs=100, verbose=0)\n",
    "\n",
    "trained_or_predictions = or_model_train.predict(X_or, verbose=0)\n",
    "trained_or_binary = (trained_or_predictions > 0.5).astype(int)\n",
    "\n",
    "print(\"Trained OR Gate Results:\")\n",
    "result_or = np.column_stack((X_or, y_or, trained_or_binary))\n",
    "result_or"
   ]
  },
  {
   "cell_type": "markdown",
   "id": "df08d065",
   "metadata": {},
   "source": [
    "## Final Learned Weights and Biases\n",
    "\n",
    "Examining how the network learned the correct parameters through training"
   ]
  },
  {
   "cell_type": "code",
   "execution_count": 22,
   "id": "fea95fd9",
   "metadata": {},
   "outputs": [
    {
     "name": "stdout",
     "output_type": "stream",
     "text": [
      "AND Gate - Final Weights: [11.647586 11.765534]\n",
      "AND Gate - Final Bias: [-17.642065]\n"
     ]
    }
   ],
   "source": [
    "and_final_weights = and_model_train.get_weights()\n",
    "print(f\"AND Gate - Final Weights: {and_final_weights[0].flatten()}\")\n",
    "print(f\"AND Gate - Final Bias: {and_final_weights[1]}\")"
   ]
  },
  {
   "cell_type": "code",
   "execution_count": 23,
   "id": "9c54c58e",
   "metadata": {},
   "outputs": [
    {
     "name": "stdout",
     "output_type": "stream",
     "text": [
      "OR Gate - Final Weights: [12.92142  13.033553]\n",
      "OR Gate - Final Bias: [-5.9499717]\n"
     ]
    }
   ],
   "source": [
    "or_final_weights = or_model_train.get_weights()\n",
    "print(f\"OR Gate - Final Weights: {or_final_weights[0].flatten()}\")\n",
    "print(f\"OR Gate - Final Bias: {or_final_weights[1]}\")"
   ]
  },
  {
   "cell_type": "code",
   "execution_count": 24,
   "id": "af5a98f9",
   "metadata": {},
   "outputs": [
    {
     "name": "stdout",
     "output_type": "stream",
     "text": [
      "NOT Gate - Final Weight: [-13.968018]\n",
      "NOT Gate - Final Bias: [6.7320857]\n"
     ]
    }
   ],
   "source": [
    "not_model_train = keras.Sequential([\n",
    "    layers.Dense(1, input_shape=(1,), activation='sigmoid', use_bias=True)\n",
    "])\n",
    "\n",
    "not_model_train.compile(optimizer=keras.optimizers.Adam(learning_rate=1.0), \n",
    "                       loss='binary_crossentropy', metrics=['accuracy'])\n",
    "\n",
    "history_not = not_model_train.fit(X_not, y_not, epochs=100, verbose=0)\n",
    "\n",
    "not_final_weights = not_model_train.get_weights()\n",
    "print(f\"NOT Gate - Final Weight: {not_final_weights[0].flatten()}\")\n",
    "print(f\"NOT Gate - Final Bias: {not_final_weights[1]}\")"
   ]
  },
  {
   "cell_type": "code",
   "execution_count": 21,
   "id": "149cbeba",
   "metadata": {},
   "outputs": [
    {
     "data": {
      "image/png": "[encoded data removed]",
      "text/plain": [
       "<Figure size 1500x500 with 3 Axes>"
      ]
     },
     "metadata": {},
     "output_type": "display_data"
    }
   ],
   "source": [
    "plt.figure(figsize=(15, 5))\n",
    "\n",
    "plt.subplot(1, 3, 1)\n",
    "plt.plot(history_and.history['loss'], 'b-', label='Loss')\n",
    "plt.plot(history_and.history['accuracy'], 'r-', label='Accuracy')\n",
    "plt.title('AND Gate Training')\n",
    "plt.xlabel('Epoch')\n",
    "plt.ylabel('Value')\n",
    "plt.legend()\n",
    "plt.grid(True)\n",
    "\n",
    "plt.subplot(1, 3, 2)\n",
    "plt.plot(history_or.history['loss'], 'b-', label='Loss')\n",
    "plt.plot(history_or.history['accuracy'], 'r-', label='Accuracy')\n",
    "plt.title('OR Gate Training')\n",
    "plt.xlabel('Epoch')\n",
    "plt.ylabel('Value')\n",
    "plt.legend()\n",
    "plt.grid(True)\n",
    "\n",
    "plt.subplot(1, 3, 3)\n",
    "plt.plot(history_not.history['loss'], 'b-', label='Loss')\n",
    "plt.plot(history_not.history['accuracy'], 'r-', label='Accuracy')\n",
    "plt.title('NOT Gate Training')\n",
    "plt.xlabel('Epoch')\n",
    "plt.ylabel('Value')\n",
    "plt.legend()\n",
    "plt.grid(True)\n",
    "\n",
    "plt.tight_layout()\n",
    "plt.show()"
   ]
  }
 ],
 "metadata": {
  "kernelspec": {
   "display_name": "Python 3",
   "language": "python",
   "name": "python3"
  },
  "language_info": {
   "codemirror_mode": {
    "name": "ipython",
    "version": 3
   },
   "file_extension": ".py",
   "mimetype": "text/x-python",
   "name": "python",
   "nbconvert_exporter": "python",
   "pygments_lexer": "ipython3",
   "version": "3.10.11"
  }
 },
 "nbformat": 4,
 "nbformat_minor": 5
}
